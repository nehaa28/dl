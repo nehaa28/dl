{
  "nbformat": 4,
  "nbformat_minor": 0,
  "metadata": {
    "colab": {
      "provenance": []
    },
    "kernelspec": {
      "name": "python3",
      "display_name": "Python 3"
    },
    "language_info": {
      "name": "python"
    }
  },
  "cells": [
    {
      "cell_type": "markdown",
      "source": [
        "## **1. SETUP**"
      ],
      "metadata": {
        "id": "Xmr-joVFuxgj"
      }
    },
    {
      "cell_type": "code",
      "metadata": {
        "id": "9mdsDuxqTU0X"
      },
      "source": [
        "import tensorflow as tf\n",
        "import numpy as np\n",
        "import pandas as pd\n",
        "import matplotlib.pyplot as plt"
      ],
      "execution_count": 6,
      "outputs": []
    },
    {
      "cell_type": "code",
      "metadata": {
        "id": "1EDNvQiqTVZU"
      },
      "source": [
        "mnist1 = tf.keras.datasets.mnist\n",
        "\n",
        "(X_train_full, y_train_full), (X_test, y_test) = mnist1.load_data()"
      ],
      "execution_count": 7,
      "outputs": []
    },
    {
      "cell_type": "code",
      "metadata": {
        "id": "nDbhgKAzTarT"
      },
      "source": [
        "X_valid, X_train = X_train_full[:5000] / 255., X_train_full[5000:] / 255.\n",
        "y_valid, y_train =  y_train_full[:5000], y_train_full[5000:]\n"
      ],
      "execution_count": 8,
      "outputs": []
    },
    {
      "cell_type": "markdown",
      "metadata": {
        "id": "lyKqRUISTqNQ"
      },
      "source": [
        "# use of Early Stopping and Check-pointing to improve model \n",
        "\n",
        "These are all types of callback implemented during model fitting.\n",
        "\n",
        "Early Stopping - a form of regularization used to avoid overfitting when training a learner with an iterative method, such as gradient descent. This function of Keras callbacks is used to stop the model training in between\n",
        "\n",
        "Model Checkpoint - This function of keras callbacks is used to save the model after every epoch. We just need to define a few of the parameters like where we want to store, what we want to monitor and etc. "
      ]
    },
    {
      "cell_type": "code",
      "metadata": {
        "id": "O781EpBOUWrT"
      },
      "source": [
        "# Early Stopping\n",
        "early_stopping_cb = tf.keras.callbacks.EarlyStopping(patience=5, restore_best_weights=True)"
      ],
      "execution_count": 9,
      "outputs": []
    },
    {
      "cell_type": "code",
      "metadata": {
        "id": "DaoXUj-JUYXr"
      },
      "source": [
        "# Model Checkpoint saving\n",
        "CKPT_path = \"model_ckpt_01.h5\"\n",
        "checkpointing_cb = tf.keras.callbacks.ModelCheckpoint(CKPT_path, save_best_only=True)"
      ],
      "execution_count": 10,
      "outputs": []
    },
    {
      "cell_type": "markdown",
      "source": [
        "Find best initializer and compare results"
      ],
      "metadata": {
        "id": "5Viq8RN86rEy"
      }
    },
    {
      "cell_type": "code",
      "metadata": {
        "colab": {
          "base_uri": "https://localhost:8080/"
        },
        "id": "GTrnxAl2UeB5",
        "outputId": "fb34b490-0736-4061-cab1-2bd5e9b6d716"
      },
      "source": [
        "model_1 = tf.keras.models.Sequential([tf.keras.layers.Flatten(input_shape = [28,28], name = 'input_layer'),\n",
        "                                     tf.keras.layers.Dense(300,activation='relu',name= 'hidden_layer_1'),\n",
        "                                     tf.keras.layers.Dense(200, activation = 'relu', name = 'hidden_layer_2'),\n",
        "                                     tf.keras.layers.Dense(100, activation = 'relu', name = 'hidden_layer_3'),\n",
        "                                     tf.keras.layers.Dense(10, activation='softmax', name = 'output_layer')])\n",
        "\n",
        "LOSS_FUNCTION = \"sparse_categorical_crossentropy\" # use => tf.losses.sparse_categorical_crossentropy\n",
        "OPTIMIZER = \"SGD\" # or use with custom learning rate=> tf.keras.optimizers.SGD(0.02)\n",
        "METRICS = [\"accuracy\"]\n",
        "\n",
        "model_1.compile(loss=LOSS_FUNCTION, optimizer=OPTIMIZER, metrics=METRICS)\n",
        "\n",
        "EPOCHS = 5\n",
        "VALIDATION_SET = (X_valid, y_valid)\n",
        "\n",
        "history = model_1.fit(X_train, y_train, epochs=EPOCHS, validation_data=VALIDATION_SET,batch_size = 32, callbacks= [early_stopping_cb, checkpointing_cb])"
      ],
      "execution_count": 11,
      "outputs": [
        {
          "output_type": "stream",
          "name": "stdout",
          "text": [
            "Epoch 1/5\n",
            "1719/1719 [==============================] - 7s 3ms/step - loss: 0.6004 - accuracy: 0.8415 - val_loss: 0.2768 - val_accuracy: 0.9212\n",
            "Epoch 2/5\n",
            "1719/1719 [==============================] - 5s 3ms/step - loss: 0.2553 - accuracy: 0.9261 - val_loss: 0.2039 - val_accuracy: 0.9396\n",
            "Epoch 3/5\n",
            "1719/1719 [==============================] - 6s 3ms/step - loss: 0.1977 - accuracy: 0.9429 - val_loss: 0.1810 - val_accuracy: 0.9492\n",
            "Epoch 4/5\n",
            "1719/1719 [==============================] - 5s 3ms/step - loss: 0.1632 - accuracy: 0.9526 - val_loss: 0.1453 - val_accuracy: 0.9596\n",
            "Epoch 5/5\n",
            "1719/1719 [==============================] - 7s 4ms/step - loss: 0.1391 - accuracy: 0.9600 - val_loss: 0.1320 - val_accuracy: 0.9626\n"
          ]
        }
      ]
    },
    {
      "cell_type": "markdown",
      "source": [
        "#Test using glorot_normal"
      ],
      "metadata": {
        "id": "Q-DtkyHk6xUP"
      }
    },
    {
      "cell_type": "code",
      "metadata": {
        "id": "2l9dIhjqWokE"
      },
      "source": [
        "model_2 = tf.keras.models.Sequential([tf.keras.layers.Flatten(input_shape = [28,28], name = 'input_layer'),\n",
        "                                     tf.keras.layers.Dense(300,activation='relu', kernel_initializer= 'glorot_normal'),\n",
        "                                     tf.keras.layers.Dense(200, activation = 'relu', kernel_initializer= 'glorot_normal'),\n",
        "                                     tf.keras.layers.Dense(100, activation = 'relu', kernel_initializer= 'glorot_normal'),\n",
        "                                     tf.keras.layers.Dense(10, activation='softmax')])"
      ],
      "execution_count": 12,
      "outputs": []
    },
    {
      "cell_type": "code",
      "metadata": {
        "colab": {
          "base_uri": "https://localhost:8080/"
        },
        "id": "fxcbP2GZWtGG",
        "outputId": "66cd2505-13a8-4556-ecc4-e0918a29f010"
      },
      "source": [
        "model_2.summary()"
      ],
      "execution_count": 13,
      "outputs": [
        {
          "output_type": "stream",
          "name": "stdout",
          "text": [
            "Model: \"sequential_1\"\n",
            "_________________________________________________________________\n",
            " Layer (type)                Output Shape              Param #   \n",
            "=================================================================\n",
            " input_layer (Flatten)       (None, 784)               0         \n",
            "                                                                 \n",
            " dense (Dense)               (None, 300)               235500    \n",
            "                                                                 \n",
            " dense_1 (Dense)             (None, 200)               60200     \n",
            "                                                                 \n",
            " dense_2 (Dense)             (None, 100)               20100     \n",
            "                                                                 \n",
            " dense_3 (Dense)             (None, 10)                1010      \n",
            "                                                                 \n",
            "=================================================================\n",
            "Total params: 316,810\n",
            "Trainable params: 316,810\n",
            "Non-trainable params: 0\n",
            "_________________________________________________________________\n"
          ]
        }
      ]
    },
    {
      "cell_type": "markdown",
      "source": [
        "#Define parameters"
      ],
      "metadata": {
        "id": "ZBD79orp64d-"
      }
    },
    {
      "cell_type": "code",
      "metadata": {
        "id": "1PacikwFWvGO"
      },
      "source": [
        "LOSS_FUNCTION = \"sparse_categorical_crossentropy\" # use => tf.losses.sparse_categorical_crossentropy\n",
        "OPTIMIZER = \"SGD\" # or use with custom learning rate=> tf.keras.optimizers.SGD(0.02)\n",
        "METRICS = [\"accuracy\"]\n",
        "\n",
        "model_2.compile(loss=LOSS_FUNCTION, optimizer=OPTIMIZER, metrics=METRICS)"
      ],
      "execution_count": 14,
      "outputs": []
    },
    {
      "cell_type": "markdown",
      "source": [
        "#Model training"
      ],
      "metadata": {
        "id": "HHwLf_nq7GmG"
      }
    },
    {
      "cell_type": "code",
      "metadata": {
        "colab": {
          "base_uri": "https://localhost:8080/"
        },
        "id": "RHhFTMFFW2gR",
        "outputId": "9f4d46f2-279e-4f24-d129-c35b618b37a3"
      },
      "source": [
        "EPOCHS = 5\n",
        "VALIDATION_SET = (X_valid, y_valid)\n",
        "history = model_2.fit(X_train, y_train, epochs=EPOCHS, validation_data=VALIDATION_SET,batch_size = 32)"
      ],
      "execution_count": 15,
      "outputs": [
        {
          "output_type": "stream",
          "name": "stdout",
          "text": [
            "Epoch 1/5\n",
            "1719/1719 [==============================] - 5s 3ms/step - loss: 0.6175 - accuracy: 0.8329 - val_loss: 0.2777 - val_accuracy: 0.9226\n",
            "Epoch 2/5\n",
            "1719/1719 [==============================] - 6s 3ms/step - loss: 0.2637 - accuracy: 0.9227 - val_loss: 0.2055 - val_accuracy: 0.9406\n",
            "Epoch 3/5\n",
            "1719/1719 [==============================] - 5s 3ms/step - loss: 0.2065 - accuracy: 0.9398 - val_loss: 0.1731 - val_accuracy: 0.9514\n",
            "Epoch 4/5\n",
            "1719/1719 [==============================] - 6s 3ms/step - loss: 0.1690 - accuracy: 0.9504 - val_loss: 0.1502 - val_accuracy: 0.9580\n",
            "Epoch 5/5\n",
            "1719/1719 [==============================] - 5s 3ms/step - loss: 0.1434 - accuracy: 0.9590 - val_loss: 0.1279 - val_accuracy: 0.9648\n"
          ]
        }
      ]
    },
    {
      "cell_type": "markdown",
      "source": [
        "# Use summary() to see model architecture"
      ],
      "metadata": {
        "id": "dp3GZ_m06-zf"
      }
    },
    {
      "cell_type": "code",
      "metadata": {
        "colab": {
          "base_uri": "https://localhost:8080/"
        },
        "id": "WdZWHremW9ZQ",
        "outputId": "37a0aed4-9a9a-4e7d-f08c-ca7decb701a1"
      },
      "source": [
        "#Using Glorot uniform\n",
        "model_3 = tf.keras.models.Sequential([tf.keras.layers.Flatten(input_shape = [28,28], name = 'input_layer'),\n",
        "                                     tf.keras.layers.Dense(300,activation='relu', kernel_initializer= 'glorot_uniform'),\n",
        "                                     tf.keras.layers.Dense(200, activation = 'relu', kernel_initializer= 'glorot_uniform'),\n",
        "                                     tf.keras.layers.Dense(100, activation = 'relu', kernel_initializer= 'glorot_uniform'),\n",
        "                                     tf.keras.layers.Dense(10, activation='softmax')])\n",
        "\n",
        "model_3.summary()"
      ],
      "execution_count": 16,
      "outputs": [
        {
          "output_type": "stream",
          "name": "stdout",
          "text": [
            "Model: \"sequential_2\"\n",
            "_________________________________________________________________\n",
            " Layer (type)                Output Shape              Param #   \n",
            "=================================================================\n",
            " input_layer (Flatten)       (None, 784)               0         \n",
            "                                                                 \n",
            " dense_4 (Dense)             (None, 300)               235500    \n",
            "                                                                 \n",
            " dense_5 (Dense)             (None, 200)               60200     \n",
            "                                                                 \n",
            " dense_6 (Dense)             (None, 100)               20100     \n",
            "                                                                 \n",
            " dense_7 (Dense)             (None, 10)                1010      \n",
            "                                                                 \n",
            "=================================================================\n",
            "Total params: 316,810\n",
            "Trainable params: 316,810\n",
            "Non-trainable params: 0\n",
            "_________________________________________________________________\n"
          ]
        }
      ]
    },
    {
      "cell_type": "code",
      "metadata": {
        "colab": {
          "base_uri": "https://localhost:8080/"
        },
        "id": "l5p7djMnXYmd",
        "outputId": "aff57a7e-cb10-4657-f8cc-8fcb063681a3"
      },
      "source": [
        "LOSS_FUNCTION = \"sparse_categorical_crossentropy\" # use => tf.losses.sparse_categorical_crossentropy\n",
        "OPTIMIZER = \"SGD\" # or use with custom learning rate=> tf.keras.optimizers.SGD(0.02)\n",
        "METRICS = [\"accuracy\"]\n",
        "\n",
        "model_3.compile(loss=LOSS_FUNCTION, optimizer=OPTIMIZER, metrics=METRICS)\n",
        "\n",
        "EPOCHS = 5\n",
        "VALIDATION_SET = (X_valid, y_valid)\n",
        "\n",
        "history = model_3.fit(X_train, y_train, epochs=EPOCHS, validation_data=VALIDATION_SET,batch_size = 32)"
      ],
      "execution_count": 17,
      "outputs": [
        {
          "output_type": "stream",
          "name": "stdout",
          "text": [
            "Epoch 1/5\n",
            "1719/1719 [==============================] - 6s 3ms/step - loss: 0.6150 - accuracy: 0.8335 - val_loss: 0.2873 - val_accuracy: 0.9214\n",
            "Epoch 2/5\n",
            "1719/1719 [==============================] - 5s 3ms/step - loss: 0.2621 - accuracy: 0.9249 - val_loss: 0.2125 - val_accuracy: 0.9400\n",
            "Epoch 3/5\n",
            "1719/1719 [==============================] - 6s 3ms/step - loss: 0.2057 - accuracy: 0.9407 - val_loss: 0.1755 - val_accuracy: 0.9512\n",
            "Epoch 4/5\n",
            "1719/1719 [==============================] - 5s 3ms/step - loss: 0.1684 - accuracy: 0.9514 - val_loss: 0.1467 - val_accuracy: 0.9628\n",
            "Epoch 5/5\n",
            "1719/1719 [==============================] - 6s 3ms/step - loss: 0.1421 - accuracy: 0.9588 - val_loss: 0.1322 - val_accuracy: 0.9662\n"
          ]
        }
      ]
    },
    {
      "cell_type": "code",
      "metadata": {
        "colab": {
          "base_uri": "https://localhost:8080/"
        },
        "id": "YjKzdR4wX6QC",
        "outputId": "7a25738b-a5c4-4d8b-a695-81f949f1a757"
      },
      "source": [
        "print(\"Glorot normal result is {}\".format(model_2.evaluate(X_test, y_test)))\n",
        "print(\"Glorot uniform result is {}\".format(model_3.evaluate(X_test, y_test)))"
      ],
      "execution_count": 18,
      "outputs": [
        {
          "output_type": "stream",
          "name": "stdout",
          "text": [
            "313/313 [==============================] - 1s 2ms/step - loss: 19.4301 - accuracy: 0.9598\n",
            "Glorot normal result is [19.430076599121094, 0.9598000049591064]\n",
            "313/313 [==============================] - 1s 2ms/step - loss: 19.4326 - accuracy: 0.9583\n",
            "Glorot uniform result is [19.432621002197266, 0.958299994468689]\n"
          ]
        }
      ]
    },
    {
      "cell_type": "code",
      "metadata": {
        "id": "n5nRW2sYYrxI"
      },
      "source": [
        "#use he_normal as initializer and relu as activation function\n",
        "model4 = tf.keras.models.Sequential([tf.keras.layers.Flatten(input_shape = [28,28], name = 'input_layer'),\n",
        "                                     tf.keras.layers.Dense(300,activation='relu', kernel_initializer= 'he_normal'),\n",
        "                                     tf.keras.layers.Dense(200, activation = 'relu', kernel_initializer= 'he_normal'),\n",
        "                                     tf.keras.layers.Dense(100, activation = 'relu', kernel_initializer= 'he_normal'),\n",
        "                                     tf.keras.layers.Dense(10, activation='softmax')])"
      ],
      "execution_count": 19,
      "outputs": []
    },
    {
      "cell_type": "code",
      "metadata": {
        "colab": {
          "base_uri": "https://localhost:8080/"
        },
        "id": "Y8RGRfZyYwbd",
        "outputId": "fb54e6d7-3d91-4816-83b1-547203b22fd5"
      },
      "source": [
        "LOSS_FUNCTION = \"sparse_categorical_crossentropy\" # use => tf.losses.sparse_categorical_crossentropy\n",
        "OPTIMIZER = \"SGD\" # or use with custom learning rate=> tf.keras.optimizers.SGD(0.02)\n",
        "METRICS = [\"accuracy\"]\n",
        "\n",
        "model4.compile(loss=LOSS_FUNCTION, optimizer=OPTIMIZER, metrics=METRICS)\n",
        "\n",
        "EPOCHS = 5\n",
        "VALIDATION_SET = (X_valid, y_valid)\n",
        "\n",
        "history = model4.fit(X_train, y_train, epochs=EPOCHS, validation_data=VALIDATION_SET,batch_size = 32)"
      ],
      "execution_count": 20,
      "outputs": [
        {
          "output_type": "stream",
          "name": "stdout",
          "text": [
            "Epoch 1/5\n",
            "1719/1719 [==============================] - 5s 3ms/step - loss: 0.5225 - accuracy: 0.8558 - val_loss: 0.2533 - val_accuracy: 0.9302\n",
            "Epoch 2/5\n",
            "1719/1719 [==============================] - 6s 3ms/step - loss: 0.2330 - accuracy: 0.9325 - val_loss: 0.1873 - val_accuracy: 0.9476\n",
            "Epoch 3/5\n",
            "1719/1719 [==============================] - 5s 3ms/step - loss: 0.1788 - accuracy: 0.9477 - val_loss: 0.1569 - val_accuracy: 0.9550\n",
            "Epoch 4/5\n",
            "1719/1719 [==============================] - 6s 3ms/step - loss: 0.1452 - accuracy: 0.9577 - val_loss: 0.1340 - val_accuracy: 0.9630\n",
            "Epoch 5/5\n",
            "1719/1719 [==============================] - 5s 3ms/step - loss: 0.1225 - accuracy: 0.9647 - val_loss: 0.1178 - val_accuracy: 0.9660\n"
          ]
        }
      ]
    },
    {
      "cell_type": "code",
      "metadata": {
        "colab": {
          "base_uri": "https://localhost:8080/"
        },
        "id": "5CBZw1eVY3CS",
        "outputId": "33260e74-07ea-4b3b-dc66-3eba8eadf05b"
      },
      "source": [
        "##use he_normal as initializer and elu as activation function\n",
        "model5 = tf.keras.models.Sequential([tf.keras.layers.Flatten(input_shape = [28,28], name = 'input_layer'),\n",
        "                                     tf.keras.layers.Dense(300,activation='elu', kernel_initializer= 'he_normal'),\n",
        "                                     tf.keras.layers.Dense(200, activation = 'elu', kernel_initializer= 'he_normal'),\n",
        "                                     tf.keras.layers.Dense(100, activation = 'elu', kernel_initializer= 'he_normal'),\n",
        "                                     tf.keras.layers.Dense(10, activation='softmax')])\n",
        "\n",
        "LOSS_FUNCTION = \"sparse_categorical_crossentropy\" # use => tf.losses.sparse_categorical_crossentropy\n",
        "OPTIMIZER = \"SGD\" # or use with custom learning rate=> tf.keras.optimizers.SGD(0.02)\n",
        "METRICS = [\"accuracy\"]\n",
        "\n",
        "model5.compile(loss=LOSS_FUNCTION, optimizer=OPTIMIZER, metrics=METRICS)\n",
        "\n",
        "EPOCHS = 5\n",
        "VALIDATION_SET = (X_valid, y_valid)\n",
        "\n",
        "history = model5.fit(X_train, y_train, epochs=EPOCHS, validation_data=VALIDATION_SET,batch_size = 32)"
      ],
      "execution_count": 21,
      "outputs": [
        {
          "output_type": "stream",
          "name": "stdout",
          "text": [
            "Epoch 1/5\n",
            "1719/1719 [==============================] - 6s 3ms/step - loss: 0.4377 - accuracy: 0.8757 - val_loss: 0.2695 - val_accuracy: 0.9208\n",
            "Epoch 2/5\n",
            "1719/1719 [==============================] - 5s 3ms/step - loss: 0.2569 - accuracy: 0.9255 - val_loss: 0.2131 - val_accuracy: 0.9420\n",
            "Epoch 3/5\n",
            "1719/1719 [==============================] - 6s 3ms/step - loss: 0.2060 - accuracy: 0.9404 - val_loss: 0.1807 - val_accuracy: 0.9520\n",
            "Epoch 4/5\n",
            "1719/1719 [==============================] - 5s 3ms/step - loss: 0.1713 - accuracy: 0.9502 - val_loss: 0.1527 - val_accuracy: 0.9562\n",
            "Epoch 5/5\n",
            "1719/1719 [==============================] - 6s 3ms/step - loss: 0.1485 - accuracy: 0.9564 - val_loss: 0.1393 - val_accuracy: 0.9604\n"
          ]
        }
      ]
    },
    {
      "cell_type": "code",
      "metadata": {
        "colab": {
          "base_uri": "https://localhost:8080/"
        },
        "id": "Nliu3m8IZIlR",
        "outputId": "03f9dfb8-2661-4f8f-9ce2-e6be675fbee1"
      },
      "source": [
        "print(\"For he normal is {}\".format(model4.evaluate(X_test, y_test)))\n",
        "print(\"For he normal with elu AF is {}\".format(model5.evaluate(X_test, y_test)))"
      ],
      "execution_count": 22,
      "outputs": [
        {
          "output_type": "stream",
          "name": "stdout",
          "text": [
            "313/313 [==============================] - 1s 2ms/step - loss: 17.7027 - accuracy: 0.9625\n",
            "For he normal is [17.702665328979492, 0.9624999761581421]\n",
            "313/313 [==============================] - 1s 2ms/step - loss: 44.1472 - accuracy: 0.8005\n",
            "For he normal with elu AF is [44.14720153808594, 0.8004999756813049]\n"
          ]
        }
      ]
    },
    {
      "cell_type": "markdown",
      "source": [
        "# Compare different activiation functions - ReLu, LeakyReLu, Elu"
      ],
      "metadata": {
        "id": "ophTOuio7P5c"
      }
    },
    {
      "cell_type": "code",
      "metadata": {
        "colab": {
          "base_uri": "https://localhost:8080/"
        },
        "id": "MEA7hU0GZkON",
        "outputId": "3bca2ea8-1fb9-4ad3-f57d-da5ef6b59fc8"
      },
      "source": [
        "#Implementation of relu activation function\n",
        "\n",
        "model6 = tf.keras.models.Sequential([tf.keras.layers.Dense(30, activation=\"relu\", input_shape=X_train.shape[1:]), tf.keras.layers.Dense(1)])\n",
        "model6.compile(loss=\"mean_squared_error\", optimizer=\"sgd\")\n",
        "history = model6.fit(X_train, y_train, epochs=5, validation_data=(X_valid, y_valid))\n",
        "mse_test = model6.evaluate(X_test, y_test)\n",
        "X_new = X_test[:3] # pretend these are new instances\n",
        "y_pred = model6.predict(X_new)"
      ],
      "execution_count": 23,
      "outputs": [
        {
          "output_type": "stream",
          "name": "stdout",
          "text": [
            "Epoch 1/5\n",
            "1719/1719 [==============================] - 3s 2ms/step - loss: 8.5180 - val_loss: 8.2523\n",
            "Epoch 2/5\n",
            "1719/1719 [==============================] - 3s 2ms/step - loss: 8.3856 - val_loss: 8.2494\n",
            "Epoch 3/5\n",
            "1719/1719 [==============================] - 3s 2ms/step - loss: 8.3840 - val_loss: 8.2515\n",
            "Epoch 4/5\n",
            "1719/1719 [==============================] - 2s 1ms/step - loss: 8.3790 - val_loss: 8.2740\n",
            "Epoch 5/5\n",
            "1719/1719 [==============================] - 2s 1ms/step - loss: 8.3775 - val_loss: 8.2491\n",
            "313/313 [==============================] - 0s 1ms/step - loss: 12575.3330\n",
            "1/1 [==============================] - 0s 91ms/step\n"
          ]
        }
      ]
    },
    {
      "cell_type": "markdown",
      "metadata": {
        "id": "R-jLZKFid8eA"
      },
      "source": [
        "In a similar was as shown above, diifferent activation functions can be introduced in the model. See the below code for instance:"
      ]
    },
    {
      "cell_type": "code",
      "metadata": {
        "id": "mLYAWi5kcrOh"
      },
      "source": [
        "leaky_relu = tf.keras.layers.LeakyReLU(alpha=0.2)\n",
        "layer = tf.keras.layers.Dense(10, activation=leaky_relu, kernel_initializer=\"he_normal\")"
      ],
      "execution_count": 24,
      "outputs": []
    },
    {
      "cell_type": "code",
      "metadata": {
        "id": "97NEI-07dZXq"
      },
      "source": [
        "#implementation of elu and softmax\n",
        "model7 = tf.keras.models.Sequential([\n",
        "tf.keras.layers.Flatten(input_shape=[28, 28]),\n",
        "tf.keras.layers.Dense(300, activation=\"elu\", kernel_initializer=\"he_normal\"),\n",
        "tf.keras.layers.Dense(100, activation=\"elu\", kernel_initializer=\"he_normal\"),\n",
        "tf.keras.layers.Dense(10, activation=\"softmax\")\n",
        "])"
      ],
      "execution_count": 25,
      "outputs": []
    },
    {
      "cell_type": "markdown",
      "source": [
        "# Compare *Optimisers* = ['Adadelta', 'Adagrad', 'Adam', 'RMSprop', 'SGD']"
      ],
      "metadata": {
        "id": "_4mp8i20woz2"
      }
    },
    {
      "cell_type": "code",
      "metadata": {
        "id": "9XeAtvL4klUO"
      },
      "source": [
        "##use he_normal as initializer and elu as activation function\n",
        "def build_model(optimizer):\n",
        "  model8 = tf.keras.models.Sequential([tf.keras.layers.Flatten(input_shape = [28,28], name = 'input_layer'),\n",
        "                                      tf.keras.layers.Dense(300,activation='elu', kernel_initializer= 'he_normal'),\n",
        "                                      tf.keras.layers.Dense(200, activation = 'elu', kernel_initializer= 'he_normal'),\n",
        "                                      tf.keras.layers.Dense(100, activation = 'elu', kernel_initializer= 'he_normal'),\n",
        "                                      tf.keras.layers.Dense(10, activation='softmax')])\n",
        "\n",
        "  LOSS_FUNCTION = \"sparse_categorical_crossentropy\" # use => tf.losses.sparse_categorical_crossentropy\n",
        "  METRICS = [\"accuracy\"]\n",
        "\n",
        "  model8.compile(loss=LOSS_FUNCTION, optimizer=OPTIMIZER, metrics=METRICS)\n",
        "  return model8\n"
      ],
      "execution_count": 35,
      "outputs": []
    },
    {
      "cell_type": "code",
      "source": [
        "EPOCHS = 5\n",
        "VALIDATION_SET = (X_valid, y_valid)\n",
        "\n",
        "optimizers = ['Adadelta', 'Adagrad', 'Adam', 'RMSprop', 'SGD']\n",
        "\n",
        "\n",
        "model8 = build_model(\"Adadelta\")\n",
        "history = model8.fit(X_train, y_train, epochs=EPOCHS, validation_data=VALIDATION_SET,batch_size = 32)"
      ],
      "metadata": {
        "colab": {
          "base_uri": "https://localhost:8080/"
        },
        "id": "8fxOmcLL1EI1",
        "outputId": "099ae689-ef9b-4be8-c31c-17ae347e5444"
      },
      "execution_count": 36,
      "outputs": [
        {
          "output_type": "stream",
          "name": "stdout",
          "text": [
            "Epoch 1/5\n",
            "1719/1719 [==============================] - 8s 4ms/step - loss: 0.2248 - accuracy: 0.9312 - val_loss: 0.1534 - val_accuracy: 0.9514\n",
            "Epoch 2/5\n",
            "1719/1719 [==============================] - 8s 4ms/step - loss: 0.1098 - accuracy: 0.9650 - val_loss: 0.0973 - val_accuracy: 0.9708\n",
            "Epoch 3/5\n",
            "1719/1719 [==============================] - 8s 5ms/step - loss: 0.0820 - accuracy: 0.9738 - val_loss: 0.0932 - val_accuracy: 0.9740\n",
            "Epoch 4/5\n",
            "1719/1719 [==============================] - 7s 4ms/step - loss: 0.0638 - accuracy: 0.9800 - val_loss: 0.0872 - val_accuracy: 0.9748\n",
            "Epoch 5/5\n",
            "1719/1719 [==============================] - 7s 4ms/step - loss: 0.0556 - accuracy: 0.9822 - val_loss: 0.0966 - val_accuracy: 0.9754\n"
          ]
        }
      ]
    },
    {
      "cell_type": "code",
      "source": [
        "model8 = build_model(\"Adagrad\")\n",
        "history = model8.fit(X_train, y_train, epochs=EPOCHS, validation_data=VALIDATION_SET,batch_size = 32)"
      ],
      "metadata": {
        "colab": {
          "base_uri": "https://localhost:8080/"
        },
        "id": "fEoL0JPE2_iS",
        "outputId": "e617cf87-7b85-407f-858c-af6510cb3fdd"
      },
      "execution_count": 37,
      "outputs": [
        {
          "output_type": "stream",
          "name": "stdout",
          "text": [
            "Epoch 1/5\n",
            "1719/1719 [==============================] - 10s 6ms/step - loss: 0.2226 - accuracy: 0.9318 - val_loss: 0.1181 - val_accuracy: 0.9668\n",
            "Epoch 2/5\n",
            "1719/1719 [==============================] - 9s 5ms/step - loss: 0.1092 - accuracy: 0.9653 - val_loss: 0.0954 - val_accuracy: 0.9706\n",
            "Epoch 3/5\n",
            "1719/1719 [==============================] - 8s 5ms/step - loss: 0.0801 - accuracy: 0.9747 - val_loss: 0.1021 - val_accuracy: 0.9692\n",
            "Epoch 4/5\n",
            "1719/1719 [==============================] - 8s 4ms/step - loss: 0.0647 - accuracy: 0.9792 - val_loss: 0.0799 - val_accuracy: 0.9778\n",
            "Epoch 5/5\n",
            "1719/1719 [==============================] - 8s 5ms/step - loss: 0.0507 - accuracy: 0.9838 - val_loss: 0.1068 - val_accuracy: 0.9722\n"
          ]
        }
      ]
    },
    {
      "cell_type": "code",
      "source": [
        "model8 = build_model(\"Adam\")\n",
        "history = model8.fit(X_train, y_train, epochs=EPOCHS, validation_data=VALIDATION_SET,batch_size = 32)"
      ],
      "metadata": {
        "colab": {
          "base_uri": "https://localhost:8080/"
        },
        "id": "7VRZ3D6-xqJS",
        "outputId": "259c3181-de27-4a60-e60c-93f0bb1e277a"
      },
      "execution_count": 38,
      "outputs": [
        {
          "output_type": "stream",
          "name": "stdout",
          "text": [
            "Epoch 1/5\n",
            "1719/1719 [==============================] - 9s 5ms/step - loss: 0.2217 - accuracy: 0.9311 - val_loss: 0.1264 - val_accuracy: 0.9622\n",
            "Epoch 2/5\n",
            "1719/1719 [==============================] - 8s 5ms/step - loss: 0.1102 - accuracy: 0.9654 - val_loss: 0.0919 - val_accuracy: 0.9746\n",
            "Epoch 3/5\n",
            "1719/1719 [==============================] - 8s 5ms/step - loss: 0.0820 - accuracy: 0.9740 - val_loss: 0.0863 - val_accuracy: 0.9748\n",
            "Epoch 4/5\n",
            "1719/1719 [==============================] - 7s 4ms/step - loss: 0.0627 - accuracy: 0.9803 - val_loss: 0.1092 - val_accuracy: 0.9718\n",
            "Epoch 5/5\n",
            "1719/1719 [==============================] - 8s 5ms/step - loss: 0.0573 - accuracy: 0.9817 - val_loss: 0.0929 - val_accuracy: 0.9756\n"
          ]
        }
      ]
    },
    {
      "cell_type": "code",
      "source": [
        "model8 = build_model(\"RMSprop\")\n",
        "history = model8.fit(X_train, y_train, epochs=EPOCHS, validation_data=VALIDATION_SET,batch_size = 32)"
      ],
      "metadata": {
        "colab": {
          "base_uri": "https://localhost:8080/"
        },
        "id": "-9sI8V243Iy9",
        "outputId": "7ed0f4e2-aa12-4aab-8d73-f6ea86246c07"
      },
      "execution_count": 39,
      "outputs": [
        {
          "output_type": "stream",
          "name": "stdout",
          "text": [
            "Epoch 1/5\n",
            "1719/1719 [==============================] - 10s 5ms/step - loss: 0.2267 - accuracy: 0.9309 - val_loss: 0.1532 - val_accuracy: 0.9498\n",
            "Epoch 2/5\n",
            "1719/1719 [==============================] - 7s 4ms/step - loss: 0.1123 - accuracy: 0.9651 - val_loss: 0.1086 - val_accuracy: 0.9654\n",
            "Epoch 3/5\n",
            "1719/1719 [==============================] - 8s 4ms/step - loss: 0.0801 - accuracy: 0.9745 - val_loss: 0.1123 - val_accuracy: 0.9692\n",
            "Epoch 4/5\n",
            "1719/1719 [==============================] - 9s 5ms/step - loss: 0.0641 - accuracy: 0.9790 - val_loss: 0.1007 - val_accuracy: 0.9728\n",
            "Epoch 5/5\n",
            "1719/1719 [==============================] - 7s 4ms/step - loss: 0.0526 - accuracy: 0.9834 - val_loss: 0.0794 - val_accuracy: 0.9796\n"
          ]
        }
      ]
    },
    {
      "cell_type": "code",
      "source": [
        "model8 = build_model(\"SGD\")\n",
        "history = model8.fit(X_train, y_train, epochs=EPOCHS, validation_data=VALIDATION_SET,batch_size = 32)"
      ],
      "metadata": {
        "colab": {
          "base_uri": "https://localhost:8080/"
        },
        "id": "JTOsZ-Kl3MN6",
        "outputId": "9f11f96e-c607-433f-f6d6-c14cb1c80669"
      },
      "execution_count": 40,
      "outputs": [
        {
          "output_type": "stream",
          "name": "stdout",
          "text": [
            "Epoch 1/5\n",
            "1719/1719 [==============================] - 9s 5ms/step - loss: 0.2271 - accuracy: 0.9308 - val_loss: 0.1335 - val_accuracy: 0.9602\n",
            "Epoch 2/5\n",
            "1719/1719 [==============================] - 8s 5ms/step - loss: 0.1102 - accuracy: 0.9660 - val_loss: 0.1031 - val_accuracy: 0.9702\n",
            "Epoch 3/5\n",
            "1719/1719 [==============================] - 8s 5ms/step - loss: 0.0825 - accuracy: 0.9736 - val_loss: 0.0958 - val_accuracy: 0.9748\n",
            "Epoch 4/5\n",
            "1719/1719 [==============================] - 7s 4ms/step - loss: 0.0650 - accuracy: 0.9802 - val_loss: 0.0880 - val_accuracy: 0.9752\n",
            "Epoch 5/5\n",
            "1719/1719 [==============================] - 8s 5ms/step - loss: 0.0550 - accuracy: 0.9827 - val_loss: 0.0912 - val_accuracy: 0.9770\n"
          ]
        }
      ]
    },
    {
      "cell_type": "markdown",
      "source": [
        "# various regularisation techniques like l1, l2, and dropout techniques"
      ],
      "metadata": {
        "id": "uQZb_jPw3iTt"
      }
    },
    {
      "cell_type": "code",
      "source": [
        "import os\n",
        "import tensorflow as tf\n",
        "import numpy as np\n",
        "import matplotlib.pyplot as plt\n",
        "import seaborn as sns\n",
        "%load_ext tensorboard\n",
        "     "
      ],
      "metadata": {
        "id": "QpXsfggh3R1u"
      },
      "execution_count": 41,
      "outputs": []
    },
    {
      "cell_type": "code",
      "source": [
        "#Performing l2()\n",
        "layer = tf.keras.layers.Dense(100, activation=\"elu\",\n",
        "                          kernel_initializer=\"he_normal\",\n",
        "                          kernel_regularizer=tf.keras.regularizers.l2(0.01))\n",
        "#The l2() function returns a regularizer that will be called to compute the regularization loss, at each step during training. \n",
        "#This regularization loss is then added to the final loss.\n",
        "#regularization factor = 0.01"
      ],
      "metadata": {
        "id": "dgEBbsvN3swk"
      },
      "execution_count": 42,
      "outputs": []
    },
    {
      "cell_type": "code",
      "source": [
        "# import keras modules\n",
        "import keras\n",
        "from keras.models import Sequential\n",
        "from keras.layers import Dense\n",
        "from tensorflow.python.keras.layers import Dense\n",
        "from keras.utils.np_utils import to_categorical\n",
        "#from tensorflow.keras import layers\n",
        "#from tensorflow.keras import regularizers\n",
        "\n",
        "\n",
        "from functools import partial\n",
        "RegularizedDense = partial(tf.keras.layers.Dense, activation=\"elu\", kernel_initializer=\"he_normal\",\n",
        "                            kernel_regularizer=keras.regularizers.l2(0.00001))\n",
        "model_l2 = tf.keras.models.Sequential([\n",
        "tf.keras.layers.Flatten(input_shape=[28, 28]),\n",
        "RegularizedDense(300),\n",
        "RegularizedDense(100),\n",
        "RegularizedDense(100),\n",
        "RegularizedDense(10, activation=\"softmax\",\n",
        "kernel_initializer=\"glorot_uniform\")\n",
        "])\n",
        "    "
      ],
      "metadata": {
        "id": "yEz9mn2F4OZb"
      },
      "execution_count": 45,
      "outputs": []
    },
    {
      "cell_type": "code",
      "source": [
        "model_l2.compile(loss=\"sparse_categorical_crossentropy\",\n",
        "              optimizer=tf.keras.optimizers.SGD(learning_rate=1e-3),\n",
        "              metrics=[\"accuracy\"])\n",
        "\n",
        "model_l2.summary()"
      ],
      "metadata": {
        "colab": {
          "base_uri": "https://localhost:8080/"
        },
        "id": "CYtFoue75v7c",
        "outputId": "07a7903d-41c6-4a3b-db1c-0e2028d7a852"
      },
      "execution_count": 46,
      "outputs": [
        {
          "output_type": "stream",
          "name": "stdout",
          "text": [
            "Model: \"sequential_18\"\n",
            "_________________________________________________________________\n",
            " Layer (type)                Output Shape              Param #   \n",
            "=================================================================\n",
            " flatten_1 (Flatten)         (None, 784)               0         \n",
            "                                                                 \n",
            " dense_67 (Dense)            (None, 300)               235500    \n",
            "                                                                 \n",
            " dense_68 (Dense)            (None, 100)               30100     \n",
            "                                                                 \n",
            " dense_69 (Dense)            (None, 100)               10100     \n",
            "                                                                 \n",
            " dense_70 (Dense)            (None, 10)                1010      \n",
            "                                                                 \n",
            "=================================================================\n",
            "Total params: 276,710\n",
            "Trainable params: 276,710\n",
            "Non-trainable params: 0\n",
            "_________________________________________________________________\n"
          ]
        }
      ]
    },
    {
      "cell_type": "code",
      "source": [
        "history = model_l2.fit(X_train, y_train, epochs=3,\n",
        "                    validation_data=(X_valid, y_valid), verbose=2)"
      ],
      "metadata": {
        "colab": {
          "base_uri": "https://localhost:8080/"
        },
        "id": "_ZJQ6xzp52TZ",
        "outputId": "7db831b5-3200-425e-c39a-cbd8acebab07"
      },
      "execution_count": 49,
      "outputs": [
        {
          "output_type": "stream",
          "name": "stdout",
          "text": [
            "Epoch 1/3\n",
            "1719/1719 - 4s - loss: 0.4048 - accuracy: 0.8906 - val_loss: 0.3607 - val_accuracy: 0.9004 - 4s/epoch - 3ms/step\n",
            "Epoch 2/3\n",
            "1719/1719 - 5s - loss: 0.3687 - accuracy: 0.8994 - val_loss: 0.3329 - val_accuracy: 0.9058 - 5s/epoch - 3ms/step\n",
            "Epoch 3/3\n",
            "1719/1719 - 4s - loss: 0.3450 - accuracy: 0.9053 - val_loss: 0.3142 - val_accuracy: 0.9118 - 4s/epoch - 3ms/step\n"
          ]
        }
      ]
    },
    {
      "cell_type": "code",
      "source": [
        "##Performing l1()\n",
        "layer = tf.keras.layers.Dense(100, activation=\"elu\",\n",
        "                          kernel_initializer=\"he_normal\",\n",
        "                          kernel_regularizer=tf.keras.regularizers.l1(0.01))\n",
        "#The l1() function returns a regularizer that will be called to compute the regularization loss, at each step during training. \n",
        "#This regularization loss is then added to the final loss.\n",
        "#regularization factor = 0.01\n"
      ],
      "metadata": {
        "id": "xvODrtSJ3y74"
      },
      "execution_count": 50,
      "outputs": []
    },
    {
      "cell_type": "code",
      "source": [
        "\n",
        "from functools import partial\n",
        "RegularizedDense = partial(tf.keras.layers.Dense, activation=\"elu\", kernel_initializer=\"he_normal\",\n",
        "                            kernel_regularizer=keras.regularizers.l1(0.00005))\n",
        "model_l1 = tf.keras.models.Sequential([\n",
        "tf.keras.layers.Flatten(input_shape=[28, 28]),\n",
        "RegularizedDense(300),\n",
        "RegularizedDense(100),\n",
        "RegularizedDense(100),\n",
        "RegularizedDense(10, activation=\"softmax\",\n",
        "kernel_initializer=\"glorot_uniform\")\n",
        "])\n",
        "     "
      ],
      "metadata": {
        "id": "1y39iq3z6Ar4"
      },
      "execution_count": 51,
      "outputs": []
    },
    {
      "cell_type": "code",
      "source": [
        "model_l1.compile(loss=\"sparse_categorical_crossentropy\",\n",
        "              optimizer=tf.keras.optimizers.SGD(learning_rate=1e-3),\n",
        "              metrics=[\"accuracy\"])\n",
        "\n",
        "model_l1.summary()"
      ],
      "metadata": {
        "colab": {
          "base_uri": "https://localhost:8080/"
        },
        "id": "Od7ooXkZ6Aup",
        "outputId": "8618c075-9fda-4394-837f-288a559654cc"
      },
      "execution_count": 52,
      "outputs": [
        {
          "output_type": "stream",
          "name": "stdout",
          "text": [
            "Model: \"sequential_19\"\n",
            "_________________________________________________________________\n",
            " Layer (type)                Output Shape              Param #   \n",
            "=================================================================\n",
            " flatten_2 (Flatten)         (None, 784)               0         \n",
            "                                                                 \n",
            " dense_73 (Dense)            (None, 300)               235500    \n",
            "                                                                 \n",
            " dense_74 (Dense)            (None, 100)               30100     \n",
            "                                                                 \n",
            " dense_75 (Dense)            (None, 100)               10100     \n",
            "                                                                 \n",
            " dense_76 (Dense)            (None, 10)                1010      \n",
            "                                                                 \n",
            "=================================================================\n",
            "Total params: 276,710\n",
            "Trainable params: 276,710\n",
            "Non-trainable params: 0\n",
            "_________________________________________________________________\n"
          ]
        }
      ]
    },
    {
      "cell_type": "code",
      "source": [
        "history = model_l1.fit(X_train, y_train, epochs=3,\n",
        "                    validation_data=(X_valid, y_valid), verbose=2)"
      ],
      "metadata": {
        "colab": {
          "base_uri": "https://localhost:8080/"
        },
        "id": "5uffEt9Z6Axx",
        "outputId": "a6affd6b-d8a5-4a65-ec1d-9c5a2f7c7b7a"
      },
      "execution_count": 54,
      "outputs": [
        {
          "output_type": "stream",
          "name": "stdout",
          "text": [
            "Epoch 1/3\n",
            "1719/1719 - 5s - loss: 0.9996 - accuracy: 0.8996 - val_loss: 0.9683 - val_accuracy: 0.9116 - 5s/epoch - 3ms/step\n",
            "Epoch 2/3\n",
            "1719/1719 - 5s - loss: 0.9800 - accuracy: 0.9050 - val_loss: 0.9524 - val_accuracy: 0.9160 - 5s/epoch - 3ms/step\n",
            "Epoch 3/3\n",
            "1719/1719 - 6s - loss: 0.9643 - accuracy: 0.9093 - val_loss: 0.9392 - val_accuracy: 0.9208 - 6s/epoch - 4ms/step\n"
          ]
        }
      ]
    },
    {
      "cell_type": "code",
      "source": [
        "#Performing Dropout\n",
        "model_dropout = tf.keras.models.Sequential([\n",
        "tf.keras.layers.Flatten(input_shape=[28, 28]),\n",
        "tf.keras.layers.Dropout(rate=0.2),\n",
        "tf.keras.layers.Dense(300, activation=\"elu\", kernel_initializer=\"he_normal\"),\n",
        "tf.keras.layers.Dropout(rate=0.2),\n",
        "tf.keras.layers.Dense(100, activation=\"elu\", kernel_initializer=\"he_normal\"),\n",
        "tf.keras.layers.Dropout(rate=0.2),\n",
        "tf.keras.layers.Dense(10, activation=\"softmax\")\n",
        "])\n",
        "    "
      ],
      "metadata": {
        "id": "Xk4JIxUa31sH"
      },
      "execution_count": 57,
      "outputs": []
    },
    {
      "cell_type": "code",
      "source": [
        "model_dropout.compile(loss=\"sparse_categorical_crossentropy\",\n",
        "              optimizer=tf.keras.optimizers.SGD(learning_rate=1e-3),\n",
        "              metrics=[\"accuracy\"])\n",
        "\n",
        "model_dropout.summary()"
      ],
      "metadata": {
        "colab": {
          "base_uri": "https://localhost:8080/"
        },
        "id": "MA8hOE1M6P94",
        "outputId": "d172a2dc-bddc-4978-a673-a9a091387814"
      },
      "execution_count": 58,
      "outputs": [
        {
          "output_type": "stream",
          "name": "stdout",
          "text": [
            "Model: \"sequential_21\"\n",
            "_________________________________________________________________\n",
            " Layer (type)                Output Shape              Param #   \n",
            "=================================================================\n",
            " flatten_4 (Flatten)         (None, 784)               0         \n",
            "                                                                 \n",
            " dropout_3 (Dropout)         (None, 784)               0         \n",
            "                                                                 \n",
            " dense_80 (Dense)            (None, 300)               235500    \n",
            "                                                                 \n",
            " dropout_4 (Dropout)         (None, 300)               0         \n",
            "                                                                 \n",
            " dense_81 (Dense)            (None, 100)               30100     \n",
            "                                                                 \n",
            " dropout_5 (Dropout)         (None, 100)               0         \n",
            "                                                                 \n",
            " dense_82 (Dense)            (None, 10)                1010      \n",
            "                                                                 \n",
            "=================================================================\n",
            "Total params: 266,610\n",
            "Trainable params: 266,610\n",
            "Non-trainable params: 0\n",
            "_________________________________________________________________\n"
          ]
        }
      ]
    },
    {
      "cell_type": "code",
      "source": [
        "history = model_dropout.fit(X_train, y_train, epochs=3,\n",
        "                    validation_data=(X_valid, y_valid), verbose=2)"
      ],
      "metadata": {
        "colab": {
          "base_uri": "https://localhost:8080/"
        },
        "id": "pHkJc7sK6QjK",
        "outputId": "7d313290-c362-46ef-92f1-240c5fab5d8c"
      },
      "execution_count": 59,
      "outputs": [
        {
          "output_type": "stream",
          "name": "stdout",
          "text": [
            "Epoch 1/3\n",
            "1719/1719 - 7s - loss: 1.4259 - accuracy: 0.5462 - val_loss: 0.7326 - val_accuracy: 0.8262 - 7s/epoch - 4ms/step\n",
            "Epoch 2/3\n",
            "1719/1719 - 7s - loss: 0.7821 - accuracy: 0.7662 - val_loss: 0.5212 - val_accuracy: 0.8636 - 7s/epoch - 4ms/step\n",
            "Epoch 3/3\n",
            "1719/1719 - 6s - loss: 0.6401 - accuracy: 0.8074 - val_loss: 0.4411 - val_accuracy: 0.8828 - 6s/epoch - 4ms/step\n"
          ]
        }
      ]
    },
    {
      "cell_type": "markdown",
      "source": [
        "# Test the model and evaluate to see intermediate results"
      ],
      "metadata": {
        "id": "talA0HLV7mW5"
      }
    },
    {
      "cell_type": "code",
      "source": [
        "model_l2.evaluate(X_test, y_test)\n",
        "model_l1.evaluate(X_test, y_test)\n",
        "model_dropout.evaluate(X_test, y_test)"
      ],
      "metadata": {
        "colab": {
          "base_uri": "https://localhost:8080/"
        },
        "id": "pFZn68eA6a6l",
        "outputId": "410d98f8-bc9e-436b-c8a9-6d9d9cabd399"
      },
      "execution_count": 60,
      "outputs": [
        {
          "output_type": "stream",
          "name": "stdout",
          "text": [
            "313/313 [==============================] - 1s 3ms/step - loss: 29.7310 - accuracy: 0.8392\n",
            "313/313 [==============================] - 1s 2ms/step - loss: 35.5643 - accuracy: 0.8476\n",
            "313/313 [==============================] - 1s 2ms/step - loss: 23.0997 - accuracy: 0.8491\n"
          ]
        },
        {
          "output_type": "execute_result",
          "data": {
            "text/plain": [
              "[23.099672317504883, 0.8490999937057495]"
            ]
          },
          "metadata": {},
          "execution_count": 60
        }
      ]
    },
    {
      "cell_type": "markdown",
      "source": [
        "# Conclusion : \n",
        "\n",
        "1. Initialization - \n",
        "*   Glorot initialization works best with TanH, Logistic and SoftMax\n",
        "*   He initialization works best with Relu and its variants\n",
        "\n",
        "2. Optimisers \n",
        "*   'Adadelta', 'Adagrad', 'Adam', 'RMSprop', 'SGD' are equally good. \n",
        "*    With hyperparameter tuning and more epoch training, the performance can be increased.\n",
        "\n",
        "3. Regularization \n",
        "*   Dropout is the most effective regularization technique\n",
        "*   It helped to increase accuracy and reduce loss. \n",
        "\n",
        "\n",
        "\n",
        "\n",
        "\n"
      ],
      "metadata": {
        "id": "zcNqio0-7uPV"
      }
    },
    {
      "cell_type": "code",
      "source": [],
      "metadata": {
        "id": "t012YauT6hJ0"
      },
      "execution_count": null,
      "outputs": []
    }
  ]
}