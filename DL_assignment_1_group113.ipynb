{
  "cells": [
    {
      "cell_type": "markdown",
      "metadata": {
        "id": "view-in-github",
        "colab_type": "text"
      },
      "source": [
        "<a href=\"https://colab.research.google.com/github/nehaa28/dl/blob/main/DL_assignment_1_group113.ipynb\" target=\"_parent\"><img src=\"https://colab.research.google.com/assets/colab-badge.svg\" alt=\"Open In Colab\"/></a>"
      ]
    },
    {
      "cell_type": "markdown",
      "id": "9bda93ba",
      "metadata": {
        "id": "9bda93ba"
      },
      "source": [
        "## Group No\n",
        "\n",
        "## Group Member Names:\n",
        "1.\n",
        "2.\n",
        "3.\n",
        "4."
      ]
    },
    {
      "cell_type": "markdown",
      "id": "bec56339",
      "metadata": {
        "id": "bec56339"
      },
      "source": [
        "# 1. Import the required libraries"
      ]
    },
    {
      "cell_type": "code",
      "execution_count": 1,
      "id": "46631608",
      "metadata": {
        "colab": {
          "base_uri": "https://localhost:8080/"
        },
        "id": "46631608",
        "outputId": "11558f6f-65b8-4a12-df97-df3c00b4c6d8"
      },
      "outputs": [
        {
          "output_type": "stream",
          "name": "stdout",
          "text": [
            "Looking in indexes: https://pypi.org/simple, https://us-python.pkg.dev/colab-wheels/public/simple/\n",
            "Requirement already satisfied: tensorflow in /usr/local/lib/python3.10/dist-packages (2.12.0)\n",
            "Requirement already satisfied: opencv-python in /usr/local/lib/python3.10/dist-packages (4.7.0.72)\n",
            "Requirement already satisfied: matplotlib in /usr/local/lib/python3.10/dist-packages (3.7.1)\n",
            "Requirement already satisfied: absl-py>=1.0.0 in /usr/local/lib/python3.10/dist-packages (from tensorflow) (1.4.0)\n",
            "Requirement already satisfied: astunparse>=1.6.0 in /usr/local/lib/python3.10/dist-packages (from tensorflow) (1.6.3)\n",
            "Requirement already satisfied: flatbuffers>=2.0 in /usr/local/lib/python3.10/dist-packages (from tensorflow) (23.3.3)\n",
            "Requirement already satisfied: gast<=0.4.0,>=0.2.1 in /usr/local/lib/python3.10/dist-packages (from tensorflow) (0.4.0)\n",
            "Requirement already satisfied: google-pasta>=0.1.1 in /usr/local/lib/python3.10/dist-packages (from tensorflow) (0.2.0)\n",
            "Requirement already satisfied: grpcio<2.0,>=1.24.3 in /usr/local/lib/python3.10/dist-packages (from tensorflow) (1.54.0)\n",
            "Requirement already satisfied: h5py>=2.9.0 in /usr/local/lib/python3.10/dist-packages (from tensorflow) (3.8.0)\n",
            "Requirement already satisfied: jax>=0.3.15 in /usr/local/lib/python3.10/dist-packages (from tensorflow) (0.4.10)\n",
            "Requirement already satisfied: keras<2.13,>=2.12.0 in /usr/local/lib/python3.10/dist-packages (from tensorflow) (2.12.0)\n",
            "Requirement already satisfied: libclang>=13.0.0 in /usr/local/lib/python3.10/dist-packages (from tensorflow) (16.0.0)\n",
            "Requirement already satisfied: numpy<1.24,>=1.22 in /usr/local/lib/python3.10/dist-packages (from tensorflow) (1.22.4)\n",
            "Requirement already satisfied: opt-einsum>=2.3.2 in /usr/local/lib/python3.10/dist-packages (from tensorflow) (3.3.0)\n",
            "Requirement already satisfied: packaging in /usr/local/lib/python3.10/dist-packages (from tensorflow) (23.1)\n",
            "Requirement already satisfied: protobuf!=4.21.0,!=4.21.1,!=4.21.2,!=4.21.3,!=4.21.4,!=4.21.5,<5.0.0dev,>=3.20.3 in /usr/local/lib/python3.10/dist-packages (from tensorflow) (3.20.3)\n",
            "Requirement already satisfied: setuptools in /usr/local/lib/python3.10/dist-packages (from tensorflow) (67.7.2)\n",
            "Requirement already satisfied: six>=1.12.0 in /usr/local/lib/python3.10/dist-packages (from tensorflow) (1.16.0)\n",
            "Requirement already satisfied: tensorboard<2.13,>=2.12 in /usr/local/lib/python3.10/dist-packages (from tensorflow) (2.12.2)\n",
            "Requirement already satisfied: tensorflow-estimator<2.13,>=2.12.0 in /usr/local/lib/python3.10/dist-packages (from tensorflow) (2.12.0)\n",
            "Requirement already satisfied: termcolor>=1.1.0 in /usr/local/lib/python3.10/dist-packages (from tensorflow) (2.3.0)\n",
            "Requirement already satisfied: typing-extensions>=3.6.6 in /usr/local/lib/python3.10/dist-packages (from tensorflow) (4.5.0)\n",
            "Requirement already satisfied: wrapt<1.15,>=1.11.0 in /usr/local/lib/python3.10/dist-packages (from tensorflow) (1.14.1)\n",
            "Requirement already satisfied: tensorflow-io-gcs-filesystem>=0.23.1 in /usr/local/lib/python3.10/dist-packages (from tensorflow) (0.32.0)\n",
            "Requirement already satisfied: contourpy>=1.0.1 in /usr/local/lib/python3.10/dist-packages (from matplotlib) (1.0.7)\n",
            "Requirement already satisfied: cycler>=0.10 in /usr/local/lib/python3.10/dist-packages (from matplotlib) (0.11.0)\n",
            "Requirement already satisfied: fonttools>=4.22.0 in /usr/local/lib/python3.10/dist-packages (from matplotlib) (4.39.3)\n",
            "Requirement already satisfied: kiwisolver>=1.0.1 in /usr/local/lib/python3.10/dist-packages (from matplotlib) (1.4.4)\n",
            "Requirement already satisfied: pillow>=6.2.0 in /usr/local/lib/python3.10/dist-packages (from matplotlib) (8.4.0)\n",
            "Requirement already satisfied: pyparsing>=2.3.1 in /usr/local/lib/python3.10/dist-packages (from matplotlib) (3.0.9)\n",
            "Requirement already satisfied: python-dateutil>=2.7 in /usr/local/lib/python3.10/dist-packages (from matplotlib) (2.8.2)\n",
            "Requirement already satisfied: wheel<1.0,>=0.23.0 in /usr/local/lib/python3.10/dist-packages (from astunparse>=1.6.0->tensorflow) (0.40.0)\n",
            "Requirement already satisfied: ml-dtypes>=0.1.0 in /usr/local/lib/python3.10/dist-packages (from jax>=0.3.15->tensorflow) (0.1.0)\n",
            "Requirement already satisfied: scipy>=1.7 in /usr/local/lib/python3.10/dist-packages (from jax>=0.3.15->tensorflow) (1.10.1)\n",
            "Requirement already satisfied: google-auth<3,>=1.6.3 in /usr/local/lib/python3.10/dist-packages (from tensorboard<2.13,>=2.12->tensorflow) (2.17.3)\n",
            "Requirement already satisfied: google-auth-oauthlib<1.1,>=0.5 in /usr/local/lib/python3.10/dist-packages (from tensorboard<2.13,>=2.12->tensorflow) (1.0.0)\n",
            "Requirement already satisfied: markdown>=2.6.8 in /usr/local/lib/python3.10/dist-packages (from tensorboard<2.13,>=2.12->tensorflow) (3.4.3)\n",
            "Requirement already satisfied: requests<3,>=2.21.0 in /usr/local/lib/python3.10/dist-packages (from tensorboard<2.13,>=2.12->tensorflow) (2.27.1)\n",
            "Requirement already satisfied: tensorboard-data-server<0.8.0,>=0.7.0 in /usr/local/lib/python3.10/dist-packages (from tensorboard<2.13,>=2.12->tensorflow) (0.7.0)\n",
            "Requirement already satisfied: tensorboard-plugin-wit>=1.6.0 in /usr/local/lib/python3.10/dist-packages (from tensorboard<2.13,>=2.12->tensorflow) (1.8.1)\n",
            "Requirement already satisfied: werkzeug>=1.0.1 in /usr/local/lib/python3.10/dist-packages (from tensorboard<2.13,>=2.12->tensorflow) (2.3.0)\n",
            "Requirement already satisfied: cachetools<6.0,>=2.0.0 in /usr/local/lib/python3.10/dist-packages (from google-auth<3,>=1.6.3->tensorboard<2.13,>=2.12->tensorflow) (5.3.0)\n",
            "Requirement already satisfied: pyasn1-modules>=0.2.1 in /usr/local/lib/python3.10/dist-packages (from google-auth<3,>=1.6.3->tensorboard<2.13,>=2.12->tensorflow) (0.3.0)\n",
            "Requirement already satisfied: rsa<5,>=3.1.4 in /usr/local/lib/python3.10/dist-packages (from google-auth<3,>=1.6.3->tensorboard<2.13,>=2.12->tensorflow) (4.9)\n",
            "Requirement already satisfied: requests-oauthlib>=0.7.0 in /usr/local/lib/python3.10/dist-packages (from google-auth-oauthlib<1.1,>=0.5->tensorboard<2.13,>=2.12->tensorflow) (1.3.1)\n",
            "Requirement already satisfied: urllib3<1.27,>=1.21.1 in /usr/local/lib/python3.10/dist-packages (from requests<3,>=2.21.0->tensorboard<2.13,>=2.12->tensorflow) (1.26.15)\n",
            "Requirement already satisfied: certifi>=2017.4.17 in /usr/local/lib/python3.10/dist-packages (from requests<3,>=2.21.0->tensorboard<2.13,>=2.12->tensorflow) (2022.12.7)\n",
            "Requirement already satisfied: charset-normalizer~=2.0.0 in /usr/local/lib/python3.10/dist-packages (from requests<3,>=2.21.0->tensorboard<2.13,>=2.12->tensorflow) (2.0.12)\n",
            "Requirement already satisfied: idna<4,>=2.5 in /usr/local/lib/python3.10/dist-packages (from requests<3,>=2.21.0->tensorboard<2.13,>=2.12->tensorflow) (3.4)\n",
            "Requirement already satisfied: MarkupSafe>=2.1.1 in /usr/local/lib/python3.10/dist-packages (from werkzeug>=1.0.1->tensorboard<2.13,>=2.12->tensorflow) (2.1.2)\n",
            "Requirement already satisfied: pyasn1<0.6.0,>=0.4.6 in /usr/local/lib/python3.10/dist-packages (from pyasn1-modules>=0.2.1->google-auth<3,>=1.6.3->tensorboard<2.13,>=2.12->tensorflow) (0.5.0)\n",
            "Requirement already satisfied: oauthlib>=3.0.0 in /usr/local/lib/python3.10/dist-packages (from requests-oauthlib>=0.7.0->google-auth-oauthlib<1.1,>=0.5->tensorboard<2.13,>=2.12->tensorflow) (3.2.2)\n",
            "2.12.0\n"
          ]
        }
      ],
      "source": [
        "!pip install tensorflow opencv-python matplotlib\n",
        "import tensorflow as tf\n",
        "import seaborn as sns\n",
        "import numpy as np\n",
        "import pandas as pd\n",
        "import matplotlib.pyplot as plt\n",
        "import matplotlib.image as mpimg\n",
        "import itertools\n",
        "\n",
        "print(tf.__version__)"
      ]
    },
    {
      "cell_type": "code",
      "source": [
        "# Avoid OOM errors by setting GPU Memory Consumption Growth\n",
        "gpus = tf.config.experimental.list_physical_devices('GPU')\n",
        "for gpu in gpus:\n",
        "    tf.config.experimental.set_memory_growth(gpu, True)"
      ],
      "metadata": {
        "id": "Ii857-GPbmcm"
      },
      "id": "Ii857-GPbmcm",
      "execution_count": 2,
      "outputs": []
    },
    {
      "cell_type": "markdown",
      "id": "3cc8e0cb",
      "metadata": {
        "id": "3cc8e0cb"
      },
      "source": [
        "# 2. Data Acquisition  -- Score: 0.5 Mark\n",
        "\n",
        "For the problem identified by you, students have to find the data source themselves from any data source.\n",
        "\n",
        "## 2.1 Code for converting the above downloaded data into a form suitable for DL\n",
        "\n"
      ]
    },
    {
      "cell_type": "code",
      "execution_count": 3,
      "id": "4b51d895",
      "metadata": {
        "id": "4b51d895",
        "colab": {
          "base_uri": "https://localhost:8080/"
        },
        "outputId": "38f5e482-8995-413b-80f5-b491a2304da8"
      },
      "outputs": [
        {
          "output_type": "stream",
          "name": "stdout",
          "text": [
            "Downloading data from https://www.cs.toronto.edu/~kriz/cifar-10-python.tar.gz\n",
            "170498071/170498071 [==============================] - 2s 0us/step\n"
          ]
        }
      ],
      "source": [
        "#load Dataset\n",
        "cifar10 = tf.keras.datasets.cifar10\n",
        "(x_train, y_train), (x_test, y_test) = cifar10.load_data()"
      ]
    },
    {
      "cell_type": "code",
      "source": [
        "y_train = y_train.flatten()\n",
        "y_test = y_test.flatten()"
      ],
      "metadata": {
        "id": "B-FiYGiWbwYA"
      },
      "id": "B-FiYGiWbwYA",
      "execution_count": 4,
      "outputs": []
    },
    {
      "cell_type": "markdown",
      "id": "812edb18",
      "metadata": {
        "id": "812edb18"
      },
      "source": [
        "## 2.1 Write your observations from the above.\n",
        "\n",
        "1. Size of the dataset\n",
        "2. What type of data attributes are there?\n",
        "3. What are you classifying?\n",
        "4. Plot the distribution of the categories of the target / label.\n",
        "\n"
      ]
    },
    {
      "cell_type": "code",
      "source": [
        "input_shape = (32, 32, 3)\n",
        "\n",
        "x_train=x_train.reshape(x_train.shape[0], x_train.shape[1], x_train.shape[2], x_train.shape[3])\n",
        "x_train=x_train / 255.0\n",
        "x_test = x_test.reshape(x_test.shape[0], x_test.shape[1], x_test.shape[2], x_train.shape[3])\n",
        "x_test=x_test / 255.0"
      ],
      "metadata": {
        "id": "TG2b7NdobvB6"
      },
      "id": "TG2b7NdobvB6",
      "execution_count": 5,
      "outputs": []
    },
    {
      "cell_type": "code",
      "source": [
        "classes = ['airplane', 'automobile', 'bird', 'cat', 'deer', 'dog', 'frog', 'horse', 'ship', 'truck']"
      ],
      "metadata": {
        "id": "NqedgVqFbwah"
      },
      "id": "NqedgVqFbwah",
      "execution_count": 6,
      "outputs": []
    },
    {
      "cell_type": "markdown",
      "source": [
        "Since the values in our x_train dataset are 32x32 color images, our input shape must be specified so that our model will know what is being inputed.\n",
        "\n",
        "The first layer expects a single 50000x32x32x3 tensor instead of 50000 32x32x3 tensors.\n",
        "\n",
        "Models generally run better on normalized values. The best way to normalize the data depends on each individual dataset.\n",
        "\n",
        "For the CIFAR10 dataset, we want each value to be between 0.0 and 1.0. As all values originally fall under the 0.0-255.0 range, divide by 255.0."
      ],
      "metadata": {
        "id": "1hpPfEfLcL21"
      },
      "id": "1hpPfEfLcL21"
    },
    {
      "cell_type": "markdown",
      "id": "102e0e36",
      "metadata": {
        "id": "102e0e36"
      },
      "source": [
        "# 3. Data Preparation -- Score: 1 Mark\n",
        "\n",
        "Perform the data prepracessing that is required for the data that you have downloaded.\n",
        "\n",
        "\n",
        "This stage depends on the dataset that is used."
      ]
    },
    {
      "cell_type": "markdown",
      "id": "06fdebf8",
      "metadata": {
        "id": "06fdebf8"
      },
      "source": [
        "## 3.1 Apply pre-processing techiniques\n",
        "\n",
        "* to remove duplicate data\n",
        "* to impute or remove missing data\n",
        "* to remove data inconsistencies\n",
        "* Encode categorical data\n",
        "* Normalize the data\n",
        "* Feature Engineering\n",
        "* Stop word removal, lemmatiation, stemming, vectorization\n",
        "\n",
        "\n",
        "IF ANY"
      ]
    },
    {
      "cell_type": "code",
      "source": [
        "#visualize Data\n",
        "plt.imshow(x_train[16])\n",
        "print(y_train[16])"
      ],
      "metadata": {
        "colab": {
          "base_uri": "https://localhost:8080/",
          "height": 447
        },
        "id": "ijkAr9t4CKhN",
        "outputId": "aa08332b-aad7-4429-fb63-2345415df3ad"
      },
      "id": "ijkAr9t4CKhN",
      "execution_count": 10,
      "outputs": [
        {
          "output_type": "stream",
          "name": "stdout",
          "text": [
            "9\n"
          ]
        },
        {
          "output_type": "display_data",
          "data": {
            "text/plain": [
              "<Figure size 640x480 with 1 Axes>"
            ],
            "image/png": "[encoded data removed]"
          },
          "metadata": {}
        }
      ]
    },
    {
      "cell_type": "markdown",
      "id": "793cd04b",
      "metadata": {
        "id": "793cd04b"
      },
      "source": [
        "## 3.2 Identify the target variables.\n",
        "\n",
        "* Separate the data front the target such that the dataset is in the form of (X,y) or (Features, Label)\n",
        "\n",
        "* Discretize / Encode the target variable or perform one-hot encoding on the target or any other as and if required.\n",
        "\n",
        "\n",
        "\n"
      ]
    },
    {
      "cell_type": "code",
      "execution_count": 11,
      "id": "dd3118eb",
      "metadata": {
        "id": "dd3118eb"
      },
      "outputs": [],
      "source": [
        "'''Label Encoding The labels for the training and the testing dataset are currently categorical and is not continuous. To include categorical dataset in our model, our labels should be converted to one-hot encodings.\n",
        "\n",
        "For example, 2 (bird) becomes [0,0,1,0,0,0,0,0,0,0] and 7 (horse) becomes [0,0,0,0,0,0,0,1,0,0].\n",
        "'''\n",
        "y_train = tf.one_hot(y_train.astype(np.int32), depth=10)\n",
        "y_test = tf.one_hot(y_test.astype(np.int32), depth=10)"
      ]
    },
    {
      "cell_type": "code",
      "execution_count": 12,
      "id": "c9089b57",
      "metadata": {
        "id": "c9089b57"
      },
      "outputs": [],
      "source": [
        "#Model Hyper parameters\n",
        "batch_size = 30\n",
        "num_classes = 10\n",
        "epochs = 5"
      ]
    },
    {
      "cell_type": "code",
      "source": [],
      "metadata": {
        "id": "0IxVKooEufiK"
      },
      "id": "0IxVKooEufiK",
      "execution_count": 12,
      "outputs": []
    },
    {
      "cell_type": "markdown",
      "id": "4cd14601",
      "metadata": {
        "id": "4cd14601"
      },
      "source": [
        "## 3.3 Split the data into training set and testing set"
      ]
    },
    {
      "cell_type": "markdown",
      "id": "e3cec4fc",
      "metadata": {
        "id": "e3cec4fc"
      },
      "source": [
        "## 3.4 Preprocessing report\n",
        "\n",
        "Mention the method adopted  and justify why the method was used\n",
        "* to remove duplicate data, if present\n",
        "* to impute or remove missing data, if present\n",
        "* to remove data inconsistencies, if present\n",
        "* to encode categorical data\n",
        "* the normalization technique used\n",
        "\n",
        "If the any of the above are not present, then also add in the report below.\n",
        "\n",
        "Report the size of the training dataset and testing dataset\n"
      ]
    },
    {
      "cell_type": "markdown",
      "source": [
        "Label Encoding The labels for the training and the testing dataset are currently categorical and is not continuous. To include categorical dataset in our model, our labels should be converted to one-hot encodings.\n",
        "\n",
        "For example, 2 (bird) becomes [0,0,1,0,0,0,0,0,0,0] and 7 (horse) becomes [0,0,0,0,0,0,0,1,0,0].\n"
      ],
      "metadata": {
        "id": "X0mKkqXdUTaX"
      },
      "id": "X0mKkqXdUTaX"
    },
    {
      "cell_type": "code",
      "source": [
        "print(x_train.shape)"
      ],
      "metadata": {
        "colab": {
          "base_uri": "https://localhost:8080/"
        },
        "id": "-iZCd0Qrbwfw",
        "outputId": "e1dd9ea6-5733-4230-b5fa-1adb1ee13d9b"
      },
      "id": "-iZCd0Qrbwfw",
      "execution_count": 13,
      "outputs": [
        {
          "output_type": "stream",
          "name": "stdout",
          "text": [
            "(50000, 32, 32, 3)\n"
          ]
        }
      ]
    },
    {
      "cell_type": "code",
      "source": [
        "print(y_train.shape)"
      ],
      "metadata": {
        "colab": {
          "base_uri": "https://localhost:8080/"
        },
        "id": "4k3gy5eeT4_O",
        "outputId": "6da79c6a-188d-4178-ad11-731960cf40a2"
      },
      "id": "4k3gy5eeT4_O",
      "execution_count": 14,
      "outputs": [
        {
          "output_type": "stream",
          "name": "stdout",
          "text": [
            "(50000, 10)\n"
          ]
        }
      ]
    },
    {
      "cell_type": "code",
      "source": [
        "print(x_test.shape)"
      ],
      "metadata": {
        "colab": {
          "base_uri": "https://localhost:8080/"
        },
        "id": "osQ2c4rvUC1j",
        "outputId": "374658c5-6a2c-4107-c003-60f10af2d1e9"
      },
      "id": "osQ2c4rvUC1j",
      "execution_count": 15,
      "outputs": [
        {
          "output_type": "stream",
          "name": "stdout",
          "text": [
            "(10000, 32, 32, 3)\n"
          ]
        }
      ]
    },
    {
      "cell_type": "code",
      "source": [
        "print(y_test.shape)"
      ],
      "metadata": {
        "colab": {
          "base_uri": "https://localhost:8080/"
        },
        "id": "-vzaCE-4UGNf",
        "outputId": "f4b59701-94e1-4605-9c4b-19e44e63ccb9"
      },
      "id": "-vzaCE-4UGNf",
      "execution_count": 16,
      "outputs": [
        {
          "output_type": "stream",
          "name": "stdout",
          "text": [
            "(10000, 10)\n"
          ]
        }
      ]
    },
    {
      "cell_type": "markdown",
      "id": "3ae0b5d2",
      "metadata": {
        "id": "3ae0b5d2"
      },
      "source": [
        "# 4. Deep Neural Network Architecture - Score:  Marks\n"
      ]
    },
    {
      "cell_type": "markdown",
      "id": "186bf4d7",
      "metadata": {
        "id": "186bf4d7"
      },
      "source": [
        "## 4.1 Design the architecture that you will be using\n",
        "\n",
        "* Sequential Model Building with Activation for each layer.\n",
        "* Add dense layers, specifying the number of units in each layer and the activation function used in the layer.\n",
        "* Use Relu Activation function in each hidden layer\n",
        "* Use Sigmoid / softmax Activation function in the output layer as required\n",
        "\n",
        "DO NOT USE CNN OR RNN."
      ]
    },
    {
      "cell_type": "code",
      "execution_count": 17,
      "id": "868d7b27",
      "metadata": {
        "id": "868d7b27"
      },
      "outputs": [],
      "source": [
        "dnn = tf.keras.models.Sequential()\n",
        "\n",
        "#number of input neurons will be equal to number of features\n",
        "dnn.add(tf.keras.layers.InputLayer(input_shape=input_shape,batch_size=batch_size))\n",
        "\n",
        "#units - number of neurons at hidden layer\n",
        "#No rule of thumb for number of neurons at hidden layers\n",
        "dnn.add(tf.keras.layers.Dense(units=32,activation='relu'))\n",
        "\n",
        "#add second layer of hidden layer\n",
        "dnn.add(tf.keras.layers.Dense(units=16,activation='relu'))\n",
        "\n",
        "#add third layer of hidden layer\n",
        "dnn.add(tf.keras.layers.Dense(units=8,activation='relu'))\n",
        "\n",
        "#add Output layer\n",
        "dnn.add(tf.keras.layers.Flatten())\n",
        "dnn.add(tf.keras.layers.Dense(units=num_classes,activation='softmax'))"
      ]
    },
    {
      "cell_type": "code",
      "source": [
        "print(y_train.shape)"
      ],
      "metadata": {
        "colab": {
          "base_uri": "https://localhost:8080/"
        },
        "id": "JNOrwnDUCafJ",
        "outputId": "209fccfc-0b7f-4def-ba28-a2b45f650877"
      },
      "id": "JNOrwnDUCafJ",
      "execution_count": 18,
      "outputs": [
        {
          "output_type": "stream",
          "name": "stdout",
          "text": [
            "(50000, 10)\n"
          ]
        }
      ]
    },
    {
      "cell_type": "markdown",
      "id": "575f9e37",
      "metadata": {
        "id": "575f9e37"
      },
      "source": [
        "## 4.2 DNN Report\n",
        "\n",
        "Report the following and provide justification for the same.\n",
        "\n",
        "\n",
        "\n",
        "* Number of layers\n",
        "* Number of units in each layer\n",
        "* Total number of trainable parameters\n",
        "\n"
      ]
    },
    {
      "cell_type": "code",
      "execution_count": 19,
      "id": "6ad56d90",
      "metadata": {
        "id": "6ad56d90",
        "colab": {
          "base_uri": "https://localhost:8080/"
        },
        "outputId": "56ac243f-14e7-4140-8f8b-7ef21662e048"
      },
      "outputs": [
        {
          "output_type": "stream",
          "name": "stdout",
          "text": [
            "Model: \"sequential\"\n",
            "_________________________________________________________________\n",
            " Layer (type)                Output Shape              Param #   \n",
            "=================================================================\n",
            " dense (Dense)               (30, 32, 32, 32)          128       \n",
            "                                                                 \n",
            " dense_1 (Dense)             (30, 32, 32, 16)          528       \n",
            "                                                                 \n",
            " dense_2 (Dense)             (30, 32, 32, 8)           136       \n",
            "                                                                 \n",
            " flatten (Flatten)           (30, 8192)                0         \n",
            "                                                                 \n",
            " dense_3 (Dense)             (30, 10)                  81930     \n",
            "                                                                 \n",
            "=================================================================\n",
            "Total params: 82,722\n",
            "Trainable params: 82,722\n",
            "Non-trainable params: 0\n",
            "_________________________________________________________________\n"
          ]
        }
      ],
      "source": [
        "#View all the layers of the network using the Keras Model.summary method\n",
        "\n",
        "dnn.summary()"
      ]
    },
    {
      "cell_type": "markdown",
      "id": "bdbc82a1",
      "metadata": {
        "id": "bdbc82a1"
      },
      "source": [
        "# 5. Training the model - Score: 1 Mark\n"
      ]
    },
    {
      "cell_type": "markdown",
      "id": "ca214eb3",
      "metadata": {
        "id": "ca214eb3"
      },
      "source": [
        "## 5.1 Configure the training\n",
        "\n",
        "Configure  the model for training, by using appropriate optimizers and regularizations\n",
        "\n",
        "Compile with categorical CE loss and metric accuracy."
      ]
    },
    {
      "cell_type": "code",
      "execution_count": 20,
      "id": "a85e9754",
      "metadata": {
        "id": "a85e9754"
      },
      "outputs": [],
      "source": [
        "dnn.compile(optimizer = 'adam', loss = 'categorical_crossentropy',metrics = ['accuracy'])"
      ]
    },
    {
      "cell_type": "markdown",
      "id": "32fd60d8",
      "metadata": {
        "id": "32fd60d8"
      },
      "source": [
        "## 5.2 Train the model\n",
        "\n",
        "Train Model with cross validation, with total time taken shown for 20 epochs.\n",
        "\n",
        "Use SGD."
      ]
    },
    {
      "cell_type": "code",
      "execution_count": 21,
      "id": "8efaa227",
      "metadata": {
        "colab": {
          "base_uri": "https://localhost:8080/"
        },
        "id": "8efaa227",
        "outputId": "de301890-4ae3-431f-8fa6-a28c63d6a285"
      },
      "outputs": [
        {
          "output_type": "stream",
          "name": "stdout",
          "text": [
            "Epoch 1/5\n",
            "1667/1667 [==============================] - 40s 23ms/step - loss: 1.6966 - accuracy: 0.4033 - val_loss: 1.5628 - val_accuracy: 0.4496\n",
            "Epoch 2/5\n",
            "1667/1667 [==============================] - 39s 24ms/step - loss: 1.5404 - accuracy: 0.4602 - val_loss: 1.5489 - val_accuracy: 0.4594\n",
            "Epoch 3/5\n",
            "1667/1667 [==============================] - 35s 21ms/step - loss: 1.5016 - accuracy: 0.4724 - val_loss: 1.5184 - val_accuracy: 0.4600\n",
            "Epoch 4/5\n",
            "1667/1667 [==============================] - 37s 22ms/step - loss: 1.4762 - accuracy: 0.4824 - val_loss: 1.5222 - val_accuracy: 0.4579\n",
            "Epoch 5/5\n",
            "1667/1667 [==============================] - 37s 22ms/step - loss: 1.4570 - accuracy: 0.4946 - val_loss: 1.4992 - val_accuracy: 0.4720\n"
          ]
        }
      ],
      "source": [
        "#Train the model for 5 epochs with the Keras Model.fit method\n",
        "#Fit the Training Data\n",
        "#history = dnn.fit(x_train, y_train, batch_size=batch_size,epochs=epochs)\n",
        "history = dnn.fit(x_train, y_train, batch_size=batch_size, epochs=epochs, validation_data=(x_test, y_test))\n"
      ]
    },
    {
      "cell_type": "markdown",
      "id": "19bd0c56",
      "metadata": {
        "id": "19bd0c56"
      },
      "source": [
        "Justify your choice of optimizers and regulizations used and the hyperparameters tuned\n"
      ]
    },
    {
      "cell_type": "markdown",
      "source": [
        "\n",
        "\n",
        "1.   Batch Size (batch_size = 30):\n",
        "The batch size determines the number of samples that are propagated through the network at each training step. A smaller batch size, such as 30, can offer benefits such as a smaller memory footprint and faster convergence. It allows for more frequent weight updates, which can help the model learn faster. However, very small batch sizes might introduce noise in the parameter updates. The choice of batch size depends on the available computational resources, the dataset size, and the complexity of the model.\n",
        "2.   Number of Classes (num_classes = 10):\n",
        "The number of classes corresponds to the number of distinct categories or labels in the classification task. In this case, there are 10 classes. The number of classes is determined by the specific problem and dataset. It should reflect the number of unique categories that the model needs to predict. For example, if the task is to classify images into different types of animals, and there are 10 animal categories, then num_classes would be set to 10.\n",
        "3.   Number of Epochs (epochs = 5):\n",
        "The number of epochs determines the number of times the entire dataset is passed through the neural network during training. Increasing the number of epochs allows the model to see the data more times and potentially improve its performance. However, setting a high number of epochs can also lead to overfitting if the model starts to memorize the training data. The optimal number of epochs depends on the complexity of the problem, the size of the dataset, and early stopping techniques to prevent overfitting. It is often determined through experimentation and monitoring the validation performance.\n",
        "\n",
        "\n"
      ],
      "metadata": {
        "id": "E2w0w3xyU_Zf"
      },
      "id": "E2w0w3xyU_Zf"
    },
    {
      "cell_type": "markdown",
      "id": "06f1173c",
      "metadata": {
        "id": "06f1173c"
      },
      "source": [
        "# 6. Test the model - 0.5 marks\n"
      ]
    },
    {
      "cell_type": "code",
      "execution_count": 22,
      "id": "55a03506",
      "metadata": {
        "colab": {
          "base_uri": "https://localhost:8080/"
        },
        "id": "55a03506",
        "outputId": "1001b669-2431-49ac-9da8-946e920acc38"
      },
      "outputs": [
        {
          "output_type": "stream",
          "name": "stdout",
          "text": [
            "313/313 [==============================] - 3s 10ms/step - loss: 1.4992 - accuracy: 0.4720\n"
          ]
        }
      ],
      "source": [
        "#Predict Results\n",
        "test_loss, test_acc = dnn.evaluate(x_test, y_test)"
      ]
    },
    {
      "cell_type": "markdown",
      "id": "eb57940c",
      "metadata": {
        "id": "eb57940c"
      },
      "source": [
        "# 7. Intermediate result  - Score: 1 mark\n",
        "\n",
        "1. Plot the training and validation accuracy history.\n",
        "2. Plot the training and validation loss history.\n",
        "3. Report the testing accuracy and loss.\n",
        "4. Show Confusion Matrix for testing dataset.\n",
        "5. Report values for preformance study metrics like accuracy, precision, recall, F1 Score.\n"
      ]
    },
    {
      "cell_type": "code",
      "source": [
        "print(history.history.keys())"
      ],
      "metadata": {
        "colab": {
          "base_uri": "https://localhost:8080/"
        },
        "id": "yb8F2LOHYC6Y",
        "outputId": "adb6a94c-ed53-4e49-a884-038b45702634"
      },
      "id": "yb8F2LOHYC6Y",
      "execution_count": 23,
      "outputs": [
        {
          "output_type": "stream",
          "name": "stdout",
          "text": [
            "dict_keys(['loss', 'accuracy', 'val_loss', 'val_accuracy'])\n"
          ]
        }
      ]
    },
    {
      "cell_type": "code",
      "execution_count": 89,
      "id": "7042235d",
      "metadata": {
        "id": "7042235d",
        "colab": {
          "base_uri": "https://localhost:8080/",
          "height": 430
        },
        "outputId": "6cf93a31-d191-42a3-88e0-478dff7b8b5f"
      },
      "outputs": [
        {
          "output_type": "display_data",
          "data": {
            "text/plain": [
              "<Figure size 640x480 with 2 Axes>"
            ],
            "image/png": "[encoded data removed]"
          },
          "metadata": {}
        }
      ],
      "source": [
        "#Model Evaluation : Loss and Accuracy Curves\n",
        "fig, ax = plt.subplots(2,1)\n",
        "ax[0].plot(history.history['loss'], color='b', label=\"Training Loss\")\n",
        "legend = ax[0].legend(loc='best', shadow=True)\n",
        "\n",
        "ax[1].plot(history.history['accuracy'], color='b', label=\"Training Accuracy\")\n",
        "legend = ax[1].legend(loc='best', shadow=True)\n"
      ]
    },
    {
      "cell_type": "code",
      "source": [
        "#Model Evaluation : validation Loss and Accuracy Curves\n",
        "fig, ax = plt.subplots(2,1)\n",
        "ax[0].plot(history.history['val_loss'], color='b', label=\"validation Loss\")\n",
        "legend = ax[0].legend(loc='best', shadow=True)\n",
        "\n",
        "ax[1].plot(history.history['val_accuracy'], color='b', label=\"validation Accuracy\")\n",
        "legend = ax[1].legend(loc='best', shadow=True)\n"
      ],
      "metadata": {
        "colab": {
          "base_uri": "https://localhost:8080/",
          "height": 430
        },
        "id": "oNVb5rUEWQQx",
        "outputId": "480dfa41-15a8-4eed-ddc4-c80ad935daaa"
      },
      "id": "oNVb5rUEWQQx",
      "execution_count": 25,
      "outputs": [
        {
          "output_type": "display_data",
          "data": {
            "text/plain": [
              "<Figure size 640x480 with 2 Axes>"
            ],
            "image/png": "[encoded data removed]"
          },
          "metadata": {}
        }
      ]
    },
    {
      "cell_type": "code",
      "source": [
        "#Predict Results\n",
        "#Report the testing accuracy and loss.\n",
        "test_loss, test_acc = dnn.evaluate(x_test, y_test)"
      ],
      "metadata": {
        "colab": {
          "base_uri": "https://localhost:8080/"
        },
        "id": "6gr9wld8BbP7",
        "outputId": "fb2ec5de-dc39-4bc2-853b-50585ab846bc"
      },
      "id": "6gr9wld8BbP7",
      "execution_count": 26,
      "outputs": [
        {
          "output_type": "stream",
          "name": "stdout",
          "text": [
            "313/313 [==============================] - 3s 8ms/step - loss: 1.4992 - accuracy: 0.4720\n"
          ]
        }
      ]
    },
    {
      "cell_type": "code",
      "source": [
        "#Confusion Matrix\n",
        "# Predict the values from the validation dataset\n",
        "y_pred = dnn.predict(x_test)\n",
        "# Convert predictions classes to one hot vectors\n",
        "y_pred_classes = np.argmax(y_pred,axis = 1)\n",
        "# Convert validation observations to one hot vectors\n",
        "y_true = np.argmax(y_test,axis = 1)\n",
        "# compute the confusion matrix\n",
        "confusion_mtx = tf.math.confusion_matrix(y_true, y_pred_classes)"
      ],
      "metadata": {
        "colab": {
          "base_uri": "https://localhost:8080/"
        },
        "id": "2xDbBz3GDdYx",
        "outputId": "98875a88-b311-47ab-ffe6-d5cd2a91bcab"
      },
      "id": "2xDbBz3GDdYx",
      "execution_count": 27,
      "outputs": [
        {
          "output_type": "stream",
          "name": "stdout",
          "text": [
            "313/313 [==============================] - 3s 8ms/step\n"
          ]
        }
      ]
    },
    {
      "cell_type": "code",
      "source": [
        "from sklearn.metrics import classification_report\n",
        "\n",
        "report = classification_report(y_true, y_pred_classes)\n",
        "print(report)"
      ],
      "metadata": {
        "colab": {
          "base_uri": "https://localhost:8080/"
        },
        "id": "nSL2eP3jE0LF",
        "outputId": "7dd6e588-8665-4b88-b894-b9ff6480174a"
      },
      "id": "nSL2eP3jE0LF",
      "execution_count": 33,
      "outputs": [
        {
          "output_type": "stream",
          "name": "stdout",
          "text": [
            "              precision    recall  f1-score   support\n",
            "\n",
            "           0       0.52      0.53      0.53      1000\n",
            "           1       0.57      0.59      0.58      1000\n",
            "           2       0.39      0.30      0.34      1000\n",
            "           3       0.31      0.44      0.36      1000\n",
            "           4       0.49      0.22      0.30      1000\n",
            "           5       0.41      0.38      0.39      1000\n",
            "           6       0.46      0.58      0.51      1000\n",
            "           7       0.48      0.57      0.52      1000\n",
            "           8       0.57      0.63      0.60      1000\n",
            "           9       0.60      0.47      0.53      1000\n",
            "\n",
            "    accuracy                           0.47     10000\n",
            "   macro avg       0.48      0.47      0.47     10000\n",
            "weighted avg       0.48      0.47      0.47     10000\n",
            "\n"
          ]
        }
      ]
    },
    {
      "cell_type": "code",
      "source": [
        "from sklearn.metrics import accuracy_score, precision_score, recall_score, f1_score\n",
        "\n",
        "#The average='weighted' parameter calculates the weighted average of precision, recall, and F1-score, taking into account class imbalances in the dataset. You can choose other averaging strategies as per your requirement, such as 'macro' or 'micro'\n",
        "\n",
        "accuracy = accuracy_score(y_true, y_pred_classes)\n",
        "precision = precision_score(y_true, y_pred_classes, average='weighted')\n",
        "recall = recall_score(y_true, y_pred_classes, average='weighted')\n",
        "f1 = f1_score(y_true, y_pred_classes, average='weighted')"
      ],
      "metadata": {
        "id": "AqTHyVciBvd5"
      },
      "id": "AqTHyVciBvd5",
      "execution_count": 36,
      "outputs": []
    },
    {
      "cell_type": "code",
      "source": [
        "print(\"Accuracy:\", accuracy)\n",
        "print(\"Precision:\", precision)\n",
        "print(\"Recall:\", recall)\n",
        "print(\"F1-score:\", f1)"
      ],
      "metadata": {
        "colab": {
          "base_uri": "https://localhost:8080/"
        },
        "id": "d8PZHDPbFrm5",
        "outputId": "59d2062d-1047-4a2a-a4ba-57d7b43a3e2f"
      },
      "id": "d8PZHDPbFrm5",
      "execution_count": 37,
      "outputs": [
        {
          "output_type": "stream",
          "name": "stdout",
          "text": [
            "Accuracy: 0.472\n",
            "Precision: 0.47869926354790815\n",
            "Recall: 0.472\n",
            "F1-score: 0.4666276054709267\n"
          ]
        }
      ]
    },
    {
      "cell_type": "code",
      "source": [
        "plt.figure(figsize=(12, 9))\n",
        "c = sns.heatmap(confusion_mtx, annot=True, fmt='g')\n",
        "c.set(xticklabels=classes, yticklabels=classes)"
      ],
      "metadata": {
        "colab": {
          "base_uri": "https://localhost:8080/",
          "height": 1000
        },
        "id": "giFCFqrBDiJB",
        "outputId": "da842f06-d49d-4ed0-c1f7-18cbbdfab0a1"
      },
      "id": "giFCFqrBDiJB",
      "execution_count": 38,
      "outputs": [
        {
          "output_type": "execute_result",
          "data": {
            "text/plain": [
              "[[Text(0.5, 0, 'airplane'),\n",
              "  Text(1.5, 0, 'automobile'),\n",
              "  Text(2.5, 0, 'bird'),\n",
              "  Text(3.5, 0, 'cat'),\n",
              "  Text(4.5, 0, 'deer'),\n",
              "  Text(5.5, 0, 'dog'),\n",
              "  Text(6.5, 0, 'frog'),\n",
              "  Text(7.5, 0, 'horse'),\n",
              "  Text(8.5, 0, 'ship'),\n",
              "  Text(9.5, 0, 'truck')],\n",
              " [Text(0, 0.5, 'airplane'),\n",
              "  Text(0, 1.5, 'automobile'),\n",
              "  Text(0, 2.5, 'bird'),\n",
              "  Text(0, 3.5, 'cat'),\n",
              "  Text(0, 4.5, 'deer'),\n",
              "  Text(0, 5.5, 'dog'),\n",
              "  Text(0, 6.5, 'frog'),\n",
              "  Text(0, 7.5, 'horse'),\n",
              "  Text(0, 8.5, 'ship'),\n",
              "  Text(0, 9.5, 'truck')]]"
            ]
          },
          "metadata": {},
          "execution_count": 38
        },
        {
          "output_type": "display_data",
          "data": {
            "text/plain": [
              "<Figure size 1200x900 with 2 Axes>"
            ],
            "image/png": "[encoded data removed]"
          },
          "metadata": {}
        }
      ]
    },
    {
      "cell_type": "markdown",
      "id": "c8146c5b",
      "metadata": {
        "id": "c8146c5b"
      },
      "source": [
        "# 8. Model architecture - Score: 1 mark\n",
        "\n",
        "\n",
        "Modify the architecture designed in section 4.1\n",
        "\n",
        "1. by decreasing one layer\n",
        "2. by increasing one layer\n",
        "\n",
        "For example, if the architecture in 4.1 has 5 layers, then 8.1 should have 4 layers and 8.2 should have 6 layers.\n",
        "\n",
        "Plot the comparison of the training and validation accuracy of the three architecures (4.1, 8.1 and 8.2)\n",
        "\n"
      ]
    },
    {
      "cell_type": "code",
      "execution_count": 39,
      "id": "b15e18d9",
      "metadata": {
        "colab": {
          "base_uri": "https://localhost:8080/"
        },
        "id": "b15e18d9",
        "outputId": "bab3b7e0-0da0-4b55-b8e1-f485da53b8cc"
      },
      "outputs": [
        {
          "output_type": "stream",
          "name": "stdout",
          "text": [
            "Epoch 1/5\n",
            "1667/1667 [==============================] - 59s 32ms/step - loss: 1.6359 - accuracy: 0.4233 - val_loss: 1.5090 - val_accuracy: 0.4650\n",
            "Epoch 2/5\n",
            "1667/1667 [==============================] - 34s 20ms/step - loss: 1.4820 - accuracy: 0.4856 - val_loss: 1.4713 - val_accuracy: 0.4813\n",
            "Epoch 3/5\n",
            "1667/1667 [==============================] - 36s 21ms/step - loss: 1.4316 - accuracy: 0.5033 - val_loss: 1.4640 - val_accuracy: 0.4823\n",
            "Epoch 4/5\n",
            "1667/1667 [==============================] - 50s 30ms/step - loss: 1.3991 - accuracy: 0.5163 - val_loss: 1.4806 - val_accuracy: 0.4789\n",
            "Epoch 5/5\n",
            "1667/1667 [==============================] - 51s 31ms/step - loss: 1.3717 - accuracy: 0.5245 - val_loss: 1.4988 - val_accuracy: 0.4741\n"
          ]
        }
      ],
      "source": [
        "#by decreasing one layer\n",
        "dnn_1 = tf.keras.models.Sequential()\n",
        "\n",
        "#number of input neurons will be equal to number of features\n",
        "dnn_1.add(tf.keras.layers.InputLayer(input_shape=input_shape,batch_size=batch_size))\n",
        "\n",
        "#units - number of neurons at hidden layer\n",
        "#No rule of thumb for number of neurons at hidden layers\n",
        "dnn_1.add(tf.keras.layers.Dense(units=32,activation='relu'))\n",
        "\n",
        "#add second layer of hidden layer\n",
        "dnn_1.add(tf.keras.layers.Dense(units=16,activation='relu'))\n",
        "\n",
        "#add Output layer\n",
        "dnn_1.add(tf.keras.layers.Flatten())\n",
        "dnn_1.add(tf.keras.layers.Dense(units=num_classes,activation='softmax'))\n",
        "\n",
        "dnn_1.compile(optimizer = 'adam', loss = 'categorical_crossentropy',metrics = ['accuracy'])\n",
        "\n",
        "#Fit the Training Data\n",
        "history_1 = dnn_1.fit(x_train, y_train, batch_size=batch_size,epochs=epochs,validation_data=(x_test, y_test))"
      ]
    },
    {
      "cell_type": "code",
      "source": [
        "#by increasing one layer\n",
        "dnn_2 = tf.keras.models.Sequential()\n",
        "\n",
        "#number of input neurons will be equal to number of features\n",
        "dnn_2.add(tf.keras.layers.InputLayer(input_shape=input_shape,batch_size=batch_size))\n",
        "\n",
        "#units - number of neurons at hidden layer\n",
        "#No rule of thumb for number of neurons at hidden layers\n",
        "dnn_2.add(tf.keras.layers.Dense(units=32,activation='relu'))\n",
        "\n",
        "#add second layer of hidden layer\n",
        "dnn_2.add(tf.keras.layers.Dense(units=16,activation='relu'))\n",
        "\n",
        "#add third layer of hidden layer\n",
        "dnn_2.add(tf.keras.layers.Dense(units=16,activation='relu'))\n",
        "\n",
        "#add fourth layer of hidden layer\n",
        "dnn_2.add(tf.keras.layers.Dense(units=16,activation='relu'))\n",
        "\n",
        "#add Output layer\n",
        "dnn_2.add(tf.keras.layers.Flatten())\n",
        "dnn_2.add(tf.keras.layers.Dense(units=num_classes,activation='softmax'))\n",
        "\n",
        "dnn_2.compile(optimizer = 'adam', loss = 'categorical_crossentropy',metrics = ['accuracy'])\n",
        "\n",
        "#Fit the Training Data\n",
        "history_2= dnn_2.fit(x_train, y_train, batch_size=batch_size,epochs=epochs,validation_data=(x_test, y_test))"
      ],
      "metadata": {
        "colab": {
          "base_uri": "https://localhost:8080/"
        },
        "id": "n-BLj2YRxY07",
        "outputId": "405cc326-9168-4a7a-ece5-089057247d5e"
      },
      "id": "n-BLj2YRxY07",
      "execution_count": 40,
      "outputs": [
        {
          "output_type": "stream",
          "name": "stdout",
          "text": [
            "Epoch 1/5\n",
            "1667/1667 [==============================] - 52s 30ms/step - loss: 1.6293 - accuracy: 0.4235 - val_loss: 1.4959 - val_accuracy: 0.4705\n",
            "Epoch 2/5\n",
            "1667/1667 [==============================] - 48s 29ms/step - loss: 1.4779 - accuracy: 0.4858 - val_loss: 1.4908 - val_accuracy: 0.4732\n",
            "Epoch 3/5\n",
            "1667/1667 [==============================] - 49s 30ms/step - loss: 1.4232 - accuracy: 0.5038 - val_loss: 1.4558 - val_accuracy: 0.4821\n",
            "Epoch 4/5\n",
            "1667/1667 [==============================] - 48s 29ms/step - loss: 1.3863 - accuracy: 0.5196 - val_loss: 1.4412 - val_accuracy: 0.4927\n",
            "Epoch 5/5\n",
            "1667/1667 [==============================] - 45s 27ms/step - loss: 1.3521 - accuracy: 0.5304 - val_loss: 1.4696 - val_accuracy: 0.4820\n"
          ]
        }
      ]
    },
    {
      "cell_type": "markdown",
      "id": "d8d38cb0",
      "metadata": {
        "id": "d8d38cb0"
      },
      "source": [
        "# 9. Regularisations - Score: 1 mark\n",
        "\n",
        "Modify the architecture designed in section 4.1\n",
        "\n",
        "1. Dropout of ratio 0.25\n",
        "2. Dropout of ratio 0.25 with L2 regulariser with factor 1e−04.\n",
        "\n",
        "Plot the comparison of the training and validation accuracy of the three (4.1, 9.1 and 9.2)\n",
        "\n"
      ]
    },
    {
      "cell_type": "code",
      "execution_count": 41,
      "id": "7497b710",
      "metadata": {
        "colab": {
          "base_uri": "https://localhost:8080/"
        },
        "id": "7497b710",
        "outputId": "c7130cf6-ef42-4a03-ac45-e971c3a5f0a8"
      },
      "outputs": [
        {
          "output_type": "stream",
          "name": "stdout",
          "text": [
            "Epoch 1/5\n",
            "1667/1667 [==============================] - 95s 56ms/step - loss: 1.7008 - accuracy: 0.4016 - val_loss: 1.5268 - val_accuracy: 0.4599\n",
            "Epoch 2/5\n",
            "1667/1667 [==============================] - 125s 75ms/step - loss: 1.5310 - accuracy: 0.4612 - val_loss: 1.5084 - val_accuracy: 0.4631\n",
            "Epoch 3/5\n",
            "1667/1667 [==============================] - 123s 74ms/step - loss: 1.4828 - accuracy: 0.4768 - val_loss: 1.4939 - val_accuracy: 0.4669\n",
            "Epoch 4/5\n",
            "1667/1667 [==============================] - 93s 56ms/step - loss: 1.4576 - accuracy: 0.4882 - val_loss: 1.4687 - val_accuracy: 0.4782\n",
            "Epoch 5/5\n",
            "1667/1667 [==============================] - 92s 55ms/step - loss: 1.4404 - accuracy: 0.4947 - val_loss: 1.4783 - val_accuracy: 0.4784\n"
          ]
        }
      ],
      "source": [
        "#by increasing one layer\n",
        "dnn_dropout = tf.keras.models.Sequential()\n",
        "\n",
        "#number of input neurons will be equal to number of features\n",
        "dnn_dropout.add(tf.keras.layers.InputLayer(input_shape=input_shape,batch_size=batch_size))\n",
        "\n",
        "#units - number of neurons at hidden layer\n",
        "#No rule of thumb for number of neurons at hidden layers\n",
        "dnn_dropout.add(tf.keras.layers.Dense(units=32,activation='relu'))\n",
        "dnn_dropout.add(tf.keras.layers.Dropout(0.25))\n",
        "\n",
        "#add second layer of hidden layer\n",
        "dnn_dropout.add(tf.keras.layers.Dense(units=16,activation='relu'))\n",
        "dnn_dropout.add(tf.keras.layers.Dropout(0.25))\n",
        "\n",
        "#add third layer of hidden layer\n",
        "dnn_dropout.add(tf.keras.layers.Dense(units=16,activation='relu'))\n",
        "dnn_dropout.add(tf.keras.layers.Dropout(0.25))\n",
        "\n",
        "#add Output layer\n",
        "dnn_dropout.add(tf.keras.layers.Flatten())\n",
        "dnn_dropout.add(tf.keras.layers.Dense(units=num_classes,activation='softmax'))\n",
        "\n",
        "dnn_dropout.compile(optimizer = 'adam', loss = 'categorical_crossentropy',metrics = ['accuracy'])\n",
        "\n",
        "#Fit the Training Data\n",
        "history_dropout= dnn_dropout.fit(x_train, y_train, batch_size=batch_size,epochs=epochs,validation_data=(x_test, y_test))"
      ]
    },
    {
      "cell_type": "code",
      "source": [
        "dnn_dropout.summary()"
      ],
      "metadata": {
        "colab": {
          "base_uri": "https://localhost:8080/"
        },
        "id": "ry4Urfqwyb1V",
        "outputId": "19274cd3-bdaa-4b9b-9a54-2add3b0f0a01"
      },
      "id": "ry4Urfqwyb1V",
      "execution_count": 42,
      "outputs": [
        {
          "output_type": "stream",
          "name": "stdout",
          "text": [
            "Model: \"sequential_3\"\n",
            "_________________________________________________________________\n",
            " Layer (type)                Output Shape              Param #   \n",
            "=================================================================\n",
            " dense_12 (Dense)            (30, 32, 32, 32)          128       \n",
            "                                                                 \n",
            " dropout (Dropout)           (30, 32, 32, 32)          0         \n",
            "                                                                 \n",
            " dense_13 (Dense)            (30, 32, 32, 16)          528       \n",
            "                                                                 \n",
            " dropout_1 (Dropout)         (30, 32, 32, 16)          0         \n",
            "                                                                 \n",
            " dense_14 (Dense)            (30, 32, 32, 16)          272       \n",
            "                                                                 \n",
            " dropout_2 (Dropout)         (30, 32, 32, 16)          0         \n",
            "                                                                 \n",
            " flatten_3 (Flatten)         (30, 16384)               0         \n",
            "                                                                 \n",
            " dense_15 (Dense)            (30, 10)                  163850    \n",
            "                                                                 \n",
            "=================================================================\n",
            "Total params: 164,778\n",
            "Trainable params: 164,778\n",
            "Non-trainable params: 0\n",
            "_________________________________________________________________\n"
          ]
        }
      ]
    },
    {
      "cell_type": "code",
      "source": [
        "#Performing L2 regulariser with factor 1e−04\n",
        "#The l2() function returns a regularizer that will be called to compute the regularization loss, at each step during training.\n",
        "#This regularization loss is then added to the final loss.\n",
        "\n",
        "# Define the L2 regularization factor\n",
        "l2_factor = 1e-04\n",
        "\n",
        "# Create the DNN model\n",
        "dnn_l2 = tf.keras.models.Sequential()\n",
        "\n",
        "# Number of input neurons will be equal to the number of features\n",
        "dnn_l2.add(tf.keras.layers.InputLayer(input_shape=input_shape, batch_size=batch_size))\n",
        "\n",
        "# Add the first layer with L2 regularization\n",
        "dnn_l2.add(tf.keras.layers.Dense(units=32, activation='relu', kernel_regularizer=tf.keras.regularizers.l2(l2_factor)))\n",
        "\n",
        "# Add the second layer with L2 regularization\n",
        "dnn_l2.add(tf.keras.layers.Dense(units=16, activation='relu', kernel_regularizer=tf.keras.regularizers.l2(l2_factor)))\n",
        "\n",
        "# Add the third layer with L2 regularization\n",
        "dnn_l2.add(tf.keras.layers.Dense(units=8, activation='relu', kernel_regularizer=tf.keras.regularizers.l2(l2_factor)))\n",
        "\n",
        "# Add the output layer\n",
        "dnn_l2.add(tf.keras.layers.Flatten())\n",
        "dnn_l2.add(tf.keras.layers.Dense(units=num_classes, activation='softmax'))\n",
        "\n",
        "# Compile the model and define the loss function, optimizer, and metrics\n",
        "dnn_l2.compile(loss='categorical_crossentropy', optimizer='adam', metrics=['accuracy'])\n",
        "\n",
        "#Fit the Training Data\n",
        "history_l2= dnn_l2.fit(x_train, y_train, batch_size=batch_size,epochs=epochs,validation_data=(x_test, y_test))\n",
        "\n"
      ],
      "metadata": {
        "colab": {
          "base_uri": "https://localhost:8080/"
        },
        "id": "tmD4eyjePLnI",
        "outputId": "978d06df-740d-4fe9-a8e3-d4980daadb6d"
      },
      "id": "tmD4eyjePLnI",
      "execution_count": 43,
      "outputs": [
        {
          "output_type": "stream",
          "name": "stdout",
          "text": [
            "Epoch 1/5\n",
            "1667/1667 [==============================] - 37s 22ms/step - loss: 1.6720 - accuracy: 0.4109 - val_loss: 1.5355 - val_accuracy: 0.4581\n",
            "Epoch 2/5\n",
            "1667/1667 [==============================] - 35s 21ms/step - loss: 1.5175 - accuracy: 0.4694 - val_loss: 1.4902 - val_accuracy: 0.4747\n",
            "Epoch 3/5\n",
            "1667/1667 [==============================] - 35s 21ms/step - loss: 1.4763 - accuracy: 0.4837 - val_loss: 1.4947 - val_accuracy: 0.4708\n",
            "Epoch 4/5\n",
            "1667/1667 [==============================] - 37s 22ms/step - loss: 1.4495 - accuracy: 0.4964 - val_loss: 1.4980 - val_accuracy: 0.4773\n",
            "Epoch 5/5\n",
            "1667/1667 [==============================] - 35s 21ms/step - loss: 1.4299 - accuracy: 0.5022 - val_loss: 1.4895 - val_accuracy: 0.4729\n"
          ]
        }
      ]
    },
    {
      "cell_type": "markdown",
      "id": "6529c4a9",
      "metadata": {
        "id": "6529c4a9"
      },
      "source": [
        "# 10. Optimisers -Score: 1 mark\n",
        "\n",
        "Modify the code written in section 5.2\n",
        "\n",
        "1. RMSProp with your choice of hyper parameters\n",
        "2. Adam with your choice of hyper parameters\n",
        "\n",
        "Plot the comparison of the training and validation accuracy of the three (5.2, 10.1 and 10.2)\n"
      ]
    },
    {
      "cell_type": "code",
      "execution_count": 45,
      "id": "9bf06eb1",
      "metadata": {
        "id": "9bf06eb1",
        "colab": {
          "base_uri": "https://localhost:8080/"
        },
        "outputId": "7276cb19-7bf6-4d71-e8cc-7630ab4a7048"
      },
      "outputs": [
        {
          "output_type": "stream",
          "name": "stdout",
          "text": [
            "Epoch 1/5\n",
            "1667/1667 [==============================] - 59s 35ms/step - loss: 1.4438 - accuracy: 0.4980 - val_loss: 1.4988 - val_accuracy: 0.4708\n",
            "Epoch 2/5\n",
            "1667/1667 [==============================] - 34s 20ms/step - loss: 1.4337 - accuracy: 0.5023 - val_loss: 1.5107 - val_accuracy: 0.4672\n",
            "Epoch 3/5\n",
            "1667/1667 [==============================] - 34s 21ms/step - loss: 1.4243 - accuracy: 0.5077 - val_loss: 1.5106 - val_accuracy: 0.4681\n",
            "Epoch 4/5\n",
            "1667/1667 [==============================] - 34s 20ms/step - loss: 1.4163 - accuracy: 0.5114 - val_loss: 1.5144 - val_accuracy: 0.4671\n",
            "Epoch 5/5\n",
            "1667/1667 [==============================] - 35s 21ms/step - loss: 1.4078 - accuracy: 0.5143 - val_loss: 1.4998 - val_accuracy: 0.4775\n"
          ]
        }
      ],
      "source": [
        "LOSS_FUNCTION = \"categorical_crossentropy\"\n",
        "OPTIMIZER = \"RMSprop\"\n",
        "METRICS = [\"accuracy\"]\n",
        "\n",
        "dnn.compile(loss=LOSS_FUNCTION, optimizer=OPTIMIZER, metrics=METRICS)\n",
        "\n",
        "epochs=5\n",
        "history_RMSprop= dnn.fit(x_train, y_train, batch_size=batch_size,epochs=epochs,validation_data=(x_test, y_test))"
      ]
    },
    {
      "cell_type": "code",
      "source": [
        "test_loss, test_acc = dnn.evaluate(x_test, y_test)"
      ],
      "metadata": {
        "colab": {
          "base_uri": "https://localhost:8080/"
        },
        "id": "MZBak8k0LY7Z",
        "outputId": "48a33ca6-2236-4f8d-dc62-9b81a4a410b7"
      },
      "id": "MZBak8k0LY7Z",
      "execution_count": 46,
      "outputs": [
        {
          "output_type": "stream",
          "name": "stdout",
          "text": [
            "313/313 [==============================] - 2s 7ms/step - loss: 1.4998 - accuracy: 0.4775\n"
          ]
        }
      ]
    },
    {
      "cell_type": "code",
      "source": [
        "LOSS_FUNCTION = \"categorical_crossentropy\"\n",
        "OPTIMIZER = \"Adam\"\n",
        "METRICS = [\"accuracy\"]\n",
        "\n",
        "dnn.compile(loss=LOSS_FUNCTION, optimizer=OPTIMIZER, metrics=METRICS)\n",
        "\n",
        "epochs=5\n",
        "history_Adam = dnn.fit(x_train, y_train, batch_size=batch_size,epochs=epochs,validation_data=(x_test, y_test))\n",
        "\n"
      ],
      "metadata": {
        "colab": {
          "base_uri": "https://localhost:8080/"
        },
        "id": "1W60DKPl1AE6",
        "outputId": "c3e8d1dd-9889-46f6-d794-0bc312922fd6"
      },
      "id": "1W60DKPl1AE6",
      "execution_count": 47,
      "outputs": [
        {
          "output_type": "stream",
          "name": "stdout",
          "text": [
            "Epoch 1/5\n",
            "1667/1667 [==============================] - 37s 21ms/step - loss: 1.3971 - accuracy: 0.5180 - val_loss: 1.5228 - val_accuracy: 0.4651\n",
            "Epoch 2/5\n",
            "1667/1667 [==============================] - 36s 22ms/step - loss: 1.3865 - accuracy: 0.5203 - val_loss: 1.5220 - val_accuracy: 0.4671\n",
            "Epoch 3/5\n",
            "1667/1667 [==============================] - 35s 21ms/step - loss: 1.3751 - accuracy: 0.5248 - val_loss: 1.5248 - val_accuracy: 0.4726\n",
            "Epoch 4/5\n",
            "1667/1667 [==============================] - 34s 20ms/step - loss: 1.3668 - accuracy: 0.5269 - val_loss: 1.5171 - val_accuracy: 0.4686\n",
            "Epoch 5/5\n",
            "1667/1667 [==============================] - 35s 21ms/step - loss: 1.3586 - accuracy: 0.5307 - val_loss: 1.5314 - val_accuracy: 0.4610\n"
          ]
        }
      ]
    },
    {
      "cell_type": "code",
      "source": [
        "test_loss, test_acc = dnn.evaluate(x_test, y_test)"
      ],
      "metadata": {
        "colab": {
          "base_uri": "https://localhost:8080/"
        },
        "id": "eUvpIv21Lj2x",
        "outputId": "103ea194-2490-416a-bac3-daf704938f1f"
      },
      "id": "eUvpIv21Lj2x",
      "execution_count": 48,
      "outputs": [
        {
          "output_type": "stream",
          "name": "stdout",
          "text": [
            "313/313 [==============================] - 2s 7ms/step - loss: 1.5314 - accuracy: 0.4610\n"
          ]
        }
      ]
    },
    {
      "cell_type": "markdown",
      "source": [
        "Plot the comparison of the training and validation accuracy of 10.1"
      ],
      "metadata": {
        "id": "c0r4uT_R2P33"
      },
      "id": "c0r4uT_R2P33"
    },
    {
      "cell_type": "code",
      "source": [
        "#Model Evaluation : Loss and Accuracy Curves\n",
        "fig, ax = plt.subplots(2,1)\n",
        "\n",
        "ax[0].plot(history_RMSprop.history['val_accuracy'], color='b', label=\"Validation Accuracy\")\n",
        "legend = ax[0].legend(loc='best', shadow=True)\n",
        "\n",
        "ax[1].plot(history_RMSprop.history['accuracy'], color='b', label=\"Training Accuracy\")\n",
        "legend = ax[1].legend(loc='best', shadow=True)"
      ],
      "metadata": {
        "colab": {
          "base_uri": "https://localhost:8080/",
          "height": 435
        },
        "id": "p2zplUkQ1eOv",
        "outputId": "9e3deebb-ac4b-4fd6-b1fd-5f736c5c33da"
      },
      "id": "p2zplUkQ1eOv",
      "execution_count": 49,
      "outputs": [
        {
          "output_type": "display_data",
          "data": {
            "text/plain": [
              "<Figure size 640x480 with 2 Axes>"
            ],
            "image/png": "[encoded data removed]"
          },
          "metadata": {}
        }
      ]
    },
    {
      "cell_type": "markdown",
      "source": [
        "Plot the comparison of the training and validation accuracy of 10.2"
      ],
      "metadata": {
        "id": "8ODQy5F02U_X"
      },
      "id": "8ODQy5F02U_X"
    },
    {
      "cell_type": "code",
      "source": [
        "#Model Evaluation : Loss and Accuracy Curves\n",
        "fig, ax = plt.subplots(2,1)\n",
        "\n",
        "ax[0].plot(history_Adam.history['val_accuracy'], color='b', label=\"Validation Accuracy\")\n",
        "legend = ax[0].legend(loc='best', shadow=True)\n",
        "\n",
        "ax[1].plot(history_Adam.history['accuracy'], color='b', label=\"Training Accuracy\")\n",
        "legend = ax[1].legend(loc='best', shadow=True)"
      ],
      "metadata": {
        "colab": {
          "base_uri": "https://localhost:8080/",
          "height": 430
        },
        "id": "S5eukHiB1fyw",
        "outputId": "62ed66ea-6c25-48d9-acd7-cbf94a51d128"
      },
      "id": "S5eukHiB1fyw",
      "execution_count": 50,
      "outputs": [
        {
          "output_type": "display_data",
          "data": {
            "text/plain": [
              "<Figure size 640x480 with 2 Axes>"
            ],
            "image/png": "[encoded data removed]"
          },
          "metadata": {}
        }
      ]
    },
    {
      "cell_type": "markdown",
      "source": [
        "Plot the comparison of the training and validation accuracy of 5.2"
      ],
      "metadata": {
        "id": "TQr3SIGE2Ya9"
      },
      "id": "TQr3SIGE2Ya9"
    },
    {
      "cell_type": "code",
      "source": [
        "#Model Evaluation : Loss and Accuracy Curves\n",
        "fig, ax = plt.subplots(2,1)\n",
        "\n",
        "ax[0].plot(history.history['val_accuracy'], color='b', label=\"Validation Accuracy\")\n",
        "legend = ax[0].legend(loc='best', shadow=True)\n",
        "\n",
        "ax[1].plot(history.history['accuracy'], color='b', label=\"Training Accuracy\")\n",
        "legend = ax[1].legend(loc='best', shadow=True)"
      ],
      "metadata": {
        "colab": {
          "base_uri": "https://localhost:8080/",
          "height": 430
        },
        "id": "iHoKmcV71gB0",
        "outputId": "f2d5cb3d-6328-49d8-fccc-12086519dea8"
      },
      "id": "iHoKmcV71gB0",
      "execution_count": 51,
      "outputs": [
        {
          "output_type": "display_data",
          "data": {
            "text/plain": [
              "<Figure size 640x480 with 2 Axes>"
            ],
            "image/png": "[encoded data removed]"
          },
          "metadata": {}
        }
      ]
    },
    {
      "cell_type": "markdown",
      "id": "7c7522aa",
      "metadata": {
        "id": "7c7522aa"
      },
      "source": [
        "# 11. Conclusion - Score: 1 mark\n",
        "\n",
        "Comparing the sections 4.1, 5.2, 8, 9, and 10, present your observations on which model or architecture or regualiser or optimiser perfomed better.\n"
      ]
    },
    {
      "cell_type": "code",
      "source": [
        "#Report the testing accuracy and loss.\n",
        "#Section 4 and 5\n",
        "#test_loss, test_acc = 1.4992, 0.4720\n",
        "\n",
        "#Section 8\n",
        "test_loss, test_acc = dnn_1.evaluate(x_test, y_test)\n",
        "test_loss, test_acc = dnn_2.evaluate(x_test, y_test)\n",
        "\n",
        "#Section 9\n",
        "test_loss, test_acc = dnn_dropout.evaluate(x_test, y_test)\n",
        "test_loss, test_acc = dnn_l2.evaluate(x_test, y_test)\n",
        "\n",
        "#Section 10\n",
        "#test_loss, test_acc = 1.4998, 0.4775#RMSProp\n",
        "#test_loss, test_acc = 1.5314, 0.4610#ADAM\n"
      ],
      "metadata": {
        "colab": {
          "base_uri": "https://localhost:8080/"
        },
        "id": "XHBC5xgAIwen",
        "outputId": "d8b45934-a759-4679-ca7c-18c3cfc282cd"
      },
      "id": "XHBC5xgAIwen",
      "execution_count": 53,
      "outputs": [
        {
          "output_type": "stream",
          "name": "stdout",
          "text": [
            "313/313 [==============================] - 3s 8ms/step - loss: 1.4988 - accuracy: 0.4741\n",
            "313/313 [==============================] - 3s 9ms/step - loss: 1.4696 - accuracy: 0.4820\n",
            "313/313 [==============================] - 3s 9ms/step - loss: 1.4783 - accuracy: 0.4784\n",
            "313/313 [==============================] - 2s 8ms/step - loss: 1.4895 - accuracy: 0.4729\n"
          ]
        }
      ]
    },
    {
      "cell_type": "markdown",
      "source": [
        "Conclusion:\n",
        "\n",
        "1.   For our model in Section 4 and 5, test_loss, test_acc = 1.4992, 0.4720\n",
        "2.   For our model in Section 8, test accuracy for increasing model by one layer increases the value\n",
        "3.   For our model in Section 9, test accuracy results are better for l2 regularization vs dropout method\n",
        "4.   For our model in Section 10, test accuracy for RMSProp show better result than ADAM.dropou\n",
        "\n",
        "Using the above results, it is advisable to\n",
        "*   increase number of layers,\n",
        "*   use l2 regularization\n",
        "*   use RMSProp as optimizer.\n",
        "\n",
        "\n",
        "\n"
      ],
      "metadata": {
        "id": "PNqb_NZ9NpCW"
      },
      "id": "PNqb_NZ9NpCW"
    },
    {
      "cell_type": "markdown",
      "id": "RcDDQlfbZQ7E",
      "metadata": {
        "id": "RcDDQlfbZQ7E"
      },
      "source": [
        "### NOTE\n",
        "\n",
        "\n",
        "All Late Submissions will incur a <b>penalty of -2 marks </b>. So submit your assignments on time.\n",
        "\n",
        "Good Luck"
      ]
    }
  ],
  "metadata": {
    "colab": {
      "provenance": [],
      "include_colab_link": true
    },
    "kernelspec": {
      "display_name": "Python 3 (ipykernel)",
      "language": "python",
      "name": "python3"
    },
    "language_info": {
      "codemirror_mode": {
        "name": "ipython",
        "version": 3
      },
      "file_extension": ".py",
      "mimetype": "text/x-python",
      "name": "python",
      "nbconvert_exporter": "python",
      "pygments_lexer": "ipython3",
      "version": "3.9.12"
    }
  },
  "nbformat": 4,
  "nbformat_minor": 5
}